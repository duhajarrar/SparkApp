{
  "nbformat": 4,
  "nbformat_minor": 0,
  "metadata": {
    "colab": {
      "name": "Spark.ipynb",
      "provenance": [],
      "collapsed_sections": [],
      "toc_visible": true,
      "mount_file_id": "https://github.com/duhajarrar/SparkApp/blob/main/Spark.ipynb",
      "authorship_tag": "ABX9TyM7vfLOa9sGknuUEz56Jv5Y",
      "include_colab_link": true
    },
    "kernelspec": {
      "name": "python3",
      "display_name": "Python 3"
    },
    "language_info": {
      "name": "python"
    }
  },
  "cells": [
    {
      "cell_type": "markdown",
      "metadata": {
        "id": "view-in-github",
        "colab_type": "text"
      },
      "source": [
        "<a href=\"https://colab.research.google.com/github/duhajarrar/SparkApp/blob/main/Spark.ipynb\" target=\"_parent\"><img src=\"https://colab.research.google.com/assets/colab-badge.svg\" alt=\"Open In Colab\"/></a>"
      ]
    },
    {
      "cell_type": "markdown",
      "metadata": {
        "id": "4CUxOTY6cMjF"
      },
      "source": [
        "# Install Spark"
      ]
    },
    {
      "cell_type": "code",
      "metadata": {
        "colab": {
          "base_uri": "https://localhost:8080/"
        },
        "id": "8L9jRiftyQkO",
        "outputId": "e099bbc8-cf38-4193-bcfd-3db013aababe"
      },
      "source": [
        "!pip install pyspark"
      ],
      "execution_count": 31,
      "outputs": [
        {
          "output_type": "stream",
          "name": "stdout",
          "text": [
            "Requirement already satisfied: pyspark in /usr/local/lib/python3.7/dist-packages (3.2.0)\n",
            "Requirement already satisfied: py4j==0.10.9.2 in /usr/local/lib/python3.7/dist-packages (from pyspark) (0.10.9.2)\n"
          ]
        }
      ]
    },
    {
      "cell_type": "markdown",
      "metadata": {
        "id": "V_lAjD5QcAVV"
      },
      "source": [
        "# Import libraries"
      ]
    },
    {
      "cell_type": "code",
      "metadata": {
        "id": "AXBYe3Nmjdiv"
      },
      "source": [
        "import pyspark.sql.functions as f\n",
        "from pyspark.sql import SparkSession\n",
        "import functools\n",
        "import pyspark\n",
        "from pyspark import SparkContext"
      ],
      "execution_count": 32,
      "outputs": []
    },
    {
      "cell_type": "markdown",
      "metadata": {
        "id": "1NiKiwxjcTjj"
      },
      "source": [
        "# Read The Dataset"
      ]
    },
    {
      "cell_type": "code",
      "metadata": {
        "id": "CvJ5m3rxwPCc",
        "colab": {
          "base_uri": "https://localhost:8080/"
        },
        "outputId": "707f9009-9bd6-4d93-82af-a2c46014138c"
      },
      "source": [
        "#TODO: Read about spark local Vs cluster mode \n",
        "#TODO: Read about spark session Vs spark context \n",
        "spark = SparkSession.builder.master(\"local[1]\").appName(\"SparkApp\").getOrCreate()\n",
        "\n",
        "#TODO: Read about RDD Vs DF Vs Dataset\n",
        "dfCar=spark.read.option(\"header\",True).csv(\"/content/drive/MyDrive/Spark-Harri/cars.csv\")\n",
        "dfCar.printSchema()\n",
        "print(type(spark),type(dfCar))\n",
        "dfCar.show(5)\n",
        "print(dfCar.columns)"
      ],
      "execution_count": 33,
      "outputs": [
        {
          "output_type": "stream",
          "name": "stdout",
          "text": [
            "root\n",
            " |-- Car Brand: string (nullable = true)\n",
            " |-- Country of Origin: string (nullable = true)\n",
            "\n",
            "<class 'pyspark.sql.session.SparkSession'> <class 'pyspark.sql.dataframe.DataFrame'>\n",
            "+------------+-----------------+\n",
            "|   Car Brand|Country of Origin|\n",
            "+------------+-----------------+\n",
            "|      Abarth|            Italy|\n",
            "|  Alfa Romeo|            Italy|\n",
            "|Aston Martin|          England|\n",
            "|        Audi|          Germany|\n",
            "|     Bentley|          England|\n",
            "+------------+-----------------+\n",
            "only showing top 5 rows\n",
            "\n",
            "['Car Brand', 'Country of Origin']\n"
          ]
        }
      ]
    },
    {
      "cell_type": "markdown",
      "metadata": {
        "id": "43hChPgzcd_F"
      },
      "source": [
        "# Task1: Extract a file which contains the car model and the country of origin of this car."
      ]
    },
    {
      "cell_type": "code",
      "metadata": {
        "id": "Ra01UNTcy9vX"
      },
      "source": [
        "#TODO: Read about shuffling \n",
        "#TODO: Read about Transformation Vs Action\n",
        "rows = dfCar.count()\n",
        "dfCar.repartition(rows).write.csv('/content/drive/MyDrive/Spark-Harri/Cars')"
      ],
      "execution_count": 34,
      "outputs": []
    },
    {
      "cell_type": "markdown",
      "metadata": {
        "id": "zFCxGj7ucp4v"
      },
      "source": [
        "# Task2: Extract one file per country"
      ]
    },
    {
      "cell_type": "code",
      "metadata": {
        "id": "fNxXPCBc0fqV"
      },
      "source": [
        "dfCar.write.partitionBy('Country Of Origin').mode(\"overwrite\").csv('/content/drive/MyDrive/Spark-Harri/Country Of Origin')"
      ],
      "execution_count": 35,
      "outputs": []
    },
    {
      "cell_type": "code",
      "metadata": {
        "id": "E5yPVJNkispD"
      },
      "source": [
        "# from pyspark import SparkContext\n",
        "# sc = SparkContext(\"local\", \"First App\")\n",
        "# sc.parallelize(dfCar)"
      ],
      "execution_count": 36,
      "outputs": []
    },
    {
      "cell_type": "code",
      "metadata": {
        "id": "TVKOPqW0E9PG"
      },
      "source": [
        "# rddCar=dfCar.rdd\n",
        "# print(rddObj.collect())"
      ],
      "execution_count": 37,
      "outputs": []
    },
    {
      "cell_type": "code",
      "metadata": {
        "id": "atgUiNhMq368"
      },
      "source": [
        "# def toCSVLine(data):\n",
        "#   return ','.join(str(d) for d in data)\n",
        "\n",
        "# lines = rddCar.map(toCSVLine)\n",
        "# lines.saveAsTextFile('/content/drive/MyDrive/Spark-Harri/Part2')"
      ],
      "execution_count": 38,
      "outputs": []
    },
    {
      "cell_type": "markdown",
      "metadata": {
        "id": "ZGmMnuQhnzCZ"
      },
      "source": [
        "# Task3: Use caching properly to optimize the performance"
      ]
    },
    {
      "cell_type": "code",
      "metadata": {
        "id": "kItspzV3n3o8"
      },
      "source": [
        "#TODO: Use Cache Vs Persist \n",
        "dfCar=dfCar.cache()"
      ],
      "execution_count": 39,
      "outputs": []
    },
    {
      "cell_type": "markdown",
      "metadata": {
        "id": "zCOuUZF6c6id"
      },
      "source": [
        "# Task4: Expect to read a file with updated records, you should be able to merge these updates with the original dataset."
      ]
    },
    {
      "cell_type": "markdown",
      "metadata": {
        "id": "D2O2iJ7-fZ5C"
      },
      "source": [
        "## Read 2015_State_Top10Report_wTotalThefts file"
      ]
    },
    {
      "cell_type": "code",
      "metadata": {
        "colab": {
          "base_uri": "https://localhost:8080/"
        },
        "id": "IPRE74-jfYMB",
        "outputId": "6e8de439-811f-46a0-b24f-5838cf822473"
      },
      "source": [
        "from pyspark.sql.types import IntegerType\n",
        "dfReport=spark.read.option(\"header\",True).csv(\"/content/drive/MyDrive/Spark-Harri/2015_State_Top10Report_wTotalThefts.csv\")\n",
        "dfReport=dfReport.withColumn(\"Thefts\",dfReport.Thefts.cast('long'))\n",
        "dfReport.printSchema()\n",
        "dfReport.show()"
      ],
      "execution_count": 40,
      "outputs": [
        {
          "output_type": "stream",
          "name": "stdout",
          "text": [
            "root\n",
            " |-- State: string (nullable = true)\n",
            " |-- Rank: string (nullable = true)\n",
            " |-- Make/Model: string (nullable = true)\n",
            " |-- Model Year: string (nullable = true)\n",
            " |-- Thefts: long (nullable = true)\n",
            "\n",
            "+-------+----+--------------------+----------+------+\n",
            "|  State|Rank|          Make/Model|Model Year|Thefts|\n",
            "+-------+----+--------------------+----------+------+\n",
            "|Alabama|   1|Chevrolet Pickup ...|      2005|   499|\n",
            "|Alabama|   2|Ford Pickup (Full...|      2006|   357|\n",
            "|Alabama|   3|        Toyota Camry|      2014|   205|\n",
            "|Alabama|   4|       Nissan Altima|      2014|   191|\n",
            "|Alabama|   4|    Chevrolet Impala|      2004|   191|\n",
            "|Alabama|   5|        Honda Accord|      1998|   180|\n",
            "|Alabama|   6|GMC Pickup (Full ...|      1999|   152|\n",
            "|Alabama|   7|Dodge Pickup (Ful...|      1998|   138|\n",
            "|Alabama|   8|        Ford Mustang|      2002|   122|\n",
            "|Alabama|   9|       Ford Explorer|      2002|   119|\n",
            "| Alaska|   1|Chevrolet Pickup ...|      2003|   147|\n",
            "| Alaska|   2|Ford Pickup (Full...|      2004|    95|\n",
            "| Alaska|   3|GMC Pickup (Full ...|      1997|    58|\n",
            "| Alaska|   4|         Honda Civic|      2000|    56|\n",
            "| Alaska|   5|        Honda Accord|      1993|    46|\n",
            "| Alaska|   6|Dodge Pickup (Ful...|      1998|    44|\n",
            "| Alaska|   7|       Ford Explorer|      1994|    31|\n",
            "| Alaska|   8|Jeep Cherokee/Gra...|      1999|    28|\n",
            "| Alaska|   9|Ford Pickup (Smal...|      2000|    22|\n",
            "| Alaska|  10|Chevrolet Pickup ...|      1998|    20|\n",
            "+-------+----+--------------------+----------+------+\n",
            "only showing top 20 rows\n",
            "\n"
          ]
        }
      ]
    },
    {
      "cell_type": "markdown",
      "metadata": {
        "id": "u_LiMplXgCE8"
      },
      "source": [
        "Rename some columns to make it easy to use them."
      ]
    },
    {
      "cell_type": "code",
      "metadata": {
        "id": "oArAsnENf-EB"
      },
      "source": [
        "dfReport=dfReport.withColumnRenamed('Make/Model','MakeModel').withColumnRenamed('Model Year','ModelYear')"
      ],
      "execution_count": 41,
      "outputs": []
    },
    {
      "cell_type": "markdown",
      "metadata": {
        "id": "ejB2hftSf0Wa"
      },
      "source": [
        "## Read Updated - Sheet1 file"
      ]
    },
    {
      "cell_type": "code",
      "metadata": {
        "colab": {
          "base_uri": "https://localhost:8080/"
        },
        "id": "svKu77azcpGl",
        "outputId": "a7c33df7-7d18-4192-8a86-eaad29f5bd56"
      },
      "source": [
        "dfUpdate=spark.read.option(\"header\",True).csv(\"/content/drive/MyDrive/Spark-Harri/Updated - Sheet1.csv\")\n",
        "dfUpdate=dfUpdate.dropna()\n",
        "dfUpdate=dfUpdate.withColumn(\"Thefts\",dfUpdate.Thefts.cast('long'))\n",
        "dfUpdate.printSchema()\n",
        "dfUpdate.show()"
      ],
      "execution_count": 42,
      "outputs": [
        {
          "output_type": "stream",
          "name": "stdout",
          "text": [
            "root\n",
            " |-- State: string (nullable = true)\n",
            " |-- Rank: string (nullable = true)\n",
            " |-- Make/Model: string (nullable = true)\n",
            " |-- Model Year: string (nullable = true)\n",
            " |-- Thefts: long (nullable = true)\n",
            "\n",
            "+------------+----+--------------------+----------+------+\n",
            "|       State|Rank|          Make/Model|Model Year|Thefts|\n",
            "+------------+----+--------------------+----------+------+\n",
            "|    Arkansas|   6|       Nissan Altima|      2015|  3000|\n",
            "|       Idaho|   8|Jeep Cherokee/Gra...|      1997|    19|\n",
            "|   Minnesota|   1|         Honda Civic|      1998|    50|\n",
            "|   Minnesota|   2|        Honda Accord|      1997|    20|\n",
            "|    Virginia|   7|      Toyota Corolla|      2013|   900|\n",
            "|    Virginia|   8|       Ford Explorer|      2002|   543|\n",
            "|North Dakota|   9|    Pontiac Grand Am|      2000|  2100|\n",
            "|    New York|   5|           Seat Leon|      2019|    11|\n",
            "|       Maine|   2|             VW Golf|      2021|     6|\n",
            "+------------+----+--------------------+----------+------+\n",
            "\n"
          ]
        }
      ]
    },
    {
      "cell_type": "markdown",
      "metadata": {
        "id": "RZWpy0yzgY5y"
      },
      "source": [
        "Rename some columns to make it easy to use them."
      ]
    },
    {
      "cell_type": "code",
      "metadata": {
        "colab": {
          "base_uri": "https://localhost:8080/"
        },
        "id": "VpgXjAWihhyS",
        "outputId": "93b7e571-45d6-4e06-e527-b6e926da35dc"
      },
      "source": [
        "dfUpdate=dfUpdate.withColumnRenamed('Make/Model','MakeModel').withColumnRenamed('Model Year','ModelYear')\n",
        "print(dfUpdate.columns)"
      ],
      "execution_count": 43,
      "outputs": [
        {
          "output_type": "stream",
          "name": "stdout",
          "text": [
            "['State', 'Rank', 'MakeModel', 'ModelYear', 'Thefts']\n"
          ]
        }
      ]
    },
    {
      "cell_type": "markdown",
      "metadata": {
        "id": "_qMSInPWgeNI"
      },
      "source": [
        "## Update the Report dataset using the updated dataset "
      ]
    },
    {
      "cell_type": "code",
      "metadata": {
        "colab": {
          "base_uri": "https://localhost:8080/"
        },
        "id": "Fyaj1ZAbih-B",
        "outputId": "d8c5b2ee-b213-486f-dbc8-7e8ffdb28319"
      },
      "source": [
        "#TODO: Explanation Inner and Outer\n",
        "#TODO: Update should be as => New record should be inserted and \n",
        "#                             Update should be updated and \n",
        "#                             Old record should be kept\n",
        "dfUpdatedRank=dfReport.alias('a').join(dfUpdate.alias('b'), ['State','MakeModel','ModelYear','Thefts'],how='inner').select('State','MakeModel','ModelYear','Thefts',f.coalesce('b.Rank', 'a.Rank').alias('Rank'))\n",
        "dfUpdatedRank.show(5)"
      ],
      "execution_count": 44,
      "outputs": [
        {
          "output_type": "stream",
          "name": "stdout",
          "text": [
            "+-----+--------------------+---------+------+----+\n",
            "|State|           MakeModel|ModelYear|Thefts|Rank|\n",
            "+-----+--------------------+---------+------+----+\n",
            "|Idaho|Jeep Cherokee/Gra...|     1997|    19|   8|\n",
            "+-----+--------------------+---------+------+----+\n",
            "\n"
          ]
        }
      ]
    },
    {
      "cell_type": "code",
      "metadata": {
        "id": "cvYG_VEikTYU"
      },
      "source": [
        "# dfUpdatedThefts=dfReport.alias('a').join(dfUpdate.alias('b'), ['State','MakeModel','ModelYear','Rank'], how='outer').select('State','MakeModel','ModelYear','Rank',f.coalesce('b.Thefts', 'a.Thefts').alias('Thefts'))\n",
        "# dfUpdatedThefts.show(5)"
      ],
      "execution_count": 45,
      "outputs": []
    },
    {
      "cell_type": "markdown",
      "metadata": {
        "id": "gAPxevtGhnAf"
      },
      "source": [
        "# Create Cars table "
      ]
    },
    {
      "cell_type": "code",
      "metadata": {
        "id": "MHmfob8Wv4ef"
      },
      "source": [
        "dfUpdatedRank=dfUpdatedRank.withColumn(\"Thefts\",dfUpdatedRank.Thefts.cast('long'))"
      ],
      "execution_count": 46,
      "outputs": []
    },
    {
      "cell_type": "code",
      "metadata": {
        "id": "cGwl1iKZhnnB"
      },
      "source": [
        "dfUpdatedRank.createOrReplaceTempView(\"Cars\")"
      ],
      "execution_count": 47,
      "outputs": []
    },
    {
      "cell_type": "markdown",
      "metadata": {
        "id": "mAfCqLbrdbAy"
      },
      "source": [
        "# Task5:List the most 5 thefted models in U.S"
      ]
    },
    {
      "cell_type": "code",
      "metadata": {
        "colab": {
          "base_uri": "https://localhost:8080/"
        },
        "id": "Ky3l9Fmrb9af",
        "outputId": "efe75157-b897-4656-a0a0-e10811f7c462"
      },
      "source": [
        "#TODO: Use Sum of the thefts insted of max thefts \n",
        "spark.sql(\"select MakeModel,MAX(Thefts) from Cars GROUP BY MakeModel ORDER BY MAX(Thefts) desc\").show(5)"
      ],
      "execution_count": 48,
      "outputs": [
        {
          "output_type": "stream",
          "name": "stdout",
          "text": [
            "+--------------------+-----------+\n",
            "|           MakeModel|max(Thefts)|\n",
            "+--------------------+-----------+\n",
            "|Jeep Cherokee/Gra...|         19|\n",
            "+--------------------+-----------+\n",
            "\n"
          ]
        }
      ]
    },
    {
      "cell_type": "markdown",
      "metadata": {
        "id": "Ey3m6PUEdWdZ"
      },
      "source": [
        "# Task6:List the most 5 states based on the number of thefted cars."
      ]
    },
    {
      "cell_type": "code",
      "metadata": {
        "colab": {
          "base_uri": "https://localhost:8080/"
        },
        "id": "qofl8ogYb1QF",
        "outputId": "30cb9fc7-7c97-48e5-e434-300fbad2a88a"
      },
      "source": [
        "#TODO: Use Sum of the thefts insted of max thefts \n",
        "spark.sql(\"select State,MAX(Thefts) from Cars GROUP BY State ORDER BY MAX(Thefts) desc\").show(5)"
      ],
      "execution_count": 49,
      "outputs": [
        {
          "output_type": "stream",
          "name": "stdout",
          "text": [
            "+-----+-----------+\n",
            "|State|max(Thefts)|\n",
            "+-----+-----------+\n",
            "|Idaho|         19|\n",
            "+-----+-----------+\n",
            "\n"
          ]
        }
      ]
    },
    {
      "cell_type": "markdown",
      "metadata": {
        "id": "uPG7DYzqdf5f"
      },
      "source": [
        "# Task7:Based on the models, what is the most country from where Americans buy their cars"
      ]
    },
    {
      "cell_type": "markdown",
      "metadata": {
        "id": "qmVbYnbDh3MV"
      },
      "source": [
        "## Extract Model name "
      ]
    },
    {
      "cell_type": "markdown",
      "metadata": {
        "id": "MJHjmg6aiHxi"
      },
      "source": [
        "We need to extract model name then join it with it's country (using cars.csv file)"
      ]
    },
    {
      "cell_type": "code",
      "metadata": {
        "colab": {
          "base_uri": "https://localhost:8080/"
        },
        "id": "Ix41QgwfJpgB",
        "outputId": "9be1c6b2-c06c-4e78-a5e7-d3f114a0f7c8"
      },
      "source": [
        "split_col = pyspark.sql.functions.split(dfUpdatedRank['MakeModel'], ' ')\n",
        "dfUpdatedRank = dfUpdatedRank.withColumn('MakeModel', split_col.getItem(0))\n",
        "dfUpdatedRank.show(5)"
      ],
      "execution_count": 50,
      "outputs": [
        {
          "output_type": "stream",
          "name": "stdout",
          "text": [
            "+-----+---------+---------+------+----+\n",
            "|State|MakeModel|ModelYear|Thefts|Rank|\n",
            "+-----+---------+---------+------+----+\n",
            "|Idaho|     Jeep|     1997|    19|   8|\n",
            "+-----+---------+---------+------+----+\n",
            "\n"
          ]
        }
      ]
    },
    {
      "cell_type": "code",
      "metadata": {
        "id": "LVlCqrUom-jX"
      },
      "source": [
        "numOfModelsBefore=dfUpdatedRank.select('MakeModel').distinct().count()"
      ],
      "execution_count": 51,
      "outputs": []
    },
    {
      "cell_type": "code",
      "metadata": {
        "id": "i3_G4yB_xeUq"
      },
      "source": [
        "#dfUpdatedRank.select('MakeModel').distinct().show()"
      ],
      "execution_count": 52,
      "outputs": []
    },
    {
      "cell_type": "markdown",
      "metadata": {
        "id": "EdGBIxRnlXYt"
      },
      "source": [
        "Rename Car Brand column "
      ]
    },
    {
      "cell_type": "code",
      "metadata": {
        "colab": {
          "base_uri": "https://localhost:8080/"
        },
        "id": "V80lkqFqMS2Y",
        "outputId": "65ce192e-b8ca-45f7-aa32-fa170f022352"
      },
      "source": [
        "dfCar=dfCar.withColumnRenamed('Car Brand','MakeModel').withColumnRenamed('Country of Origin','CountryOfOrigin')\n",
        "dfCar.show(5)"
      ],
      "execution_count": 53,
      "outputs": [
        {
          "output_type": "stream",
          "name": "stdout",
          "text": [
            "+------------+---------------+\n",
            "|   MakeModel|CountryOfOrigin|\n",
            "+------------+---------------+\n",
            "|      Abarth|          Italy|\n",
            "|  Alfa Romeo|          Italy|\n",
            "|Aston Martin|        England|\n",
            "|        Audi|        Germany|\n",
            "|     Bentley|        England|\n",
            "+------------+---------------+\n",
            "only showing top 5 rows\n",
            "\n"
          ]
        }
      ]
    },
    {
      "cell_type": "markdown",
      "metadata": {
        "id": "uX6PE8jxletI"
      },
      "source": [
        "## Join cars dataset with report dataset"
      ]
    },
    {
      "cell_type": "code",
      "metadata": {
        "colab": {
          "base_uri": "https://localhost:8080/"
        },
        "id": "NaKak4VOSURn",
        "outputId": "69e27825-5ab2-4fc9-baf9-229219389a29"
      },
      "source": [
        "dfUpdatedRank=dfUpdatedRank.join(dfCar, ['MakeModel'], 'inner')\n",
        "dfUpdatedRank.show(5)"
      ],
      "execution_count": 54,
      "outputs": [
        {
          "output_type": "stream",
          "name": "stdout",
          "text": [
            "+---------+-----+---------+------+----+---------------+\n",
            "|MakeModel|State|ModelYear|Thefts|Rank|CountryOfOrigin|\n",
            "+---------+-----+---------+------+----+---------------+\n",
            "|     Jeep|Idaho|     1997|    19|   8|        America|\n",
            "+---------+-----+---------+------+----+---------------+\n",
            "\n"
          ]
        }
      ]
    },
    {
      "cell_type": "code",
      "metadata": {
        "id": "o4Iv_eWjnNrP"
      },
      "source": [
        "numOfModelsAfter=dfUpdatedRank.select('MakeModel').distinct().count()"
      ],
      "execution_count": 55,
      "outputs": []
    },
    {
      "cell_type": "code",
      "metadata": {
        "id": "stR4xQ52xjTV"
      },
      "source": [
        "#dfUpdatedRank.select('MakeModel').distinct().show()"
      ],
      "execution_count": 56,
      "outputs": []
    },
    {
      "cell_type": "code",
      "metadata": {
        "id": "HVdGO5rqxxzR"
      },
      "source": [
        "#dfCar.select('MakeModel').distinct().show()"
      ],
      "execution_count": 57,
      "outputs": []
    },
    {
      "cell_type": "markdown",
      "metadata": {
        "id": "Lbs35dWA5X2x"
      },
      "source": [
        "**Important**"
      ]
    },
    {
      "cell_type": "code",
      "metadata": {
        "colab": {
          "base_uri": "https://localhost:8080/"
        },
        "id": "3LpbRUjgWci6",
        "outputId": "52af09e8-3a0f-47cf-9923-43be1fdface0"
      },
      "source": [
        "print(\"Number of models in cars.csv file = \",dfCar.select('MakeModel').distinct().count())"
      ],
      "execution_count": 58,
      "outputs": [
        {
          "output_type": "stream",
          "name": "stdout",
          "text": [
            "Number of models in cars.csv file =  58\n"
          ]
        }
      ]
    },
    {
      "cell_type": "code",
      "metadata": {
        "colab": {
          "base_uri": "https://localhost:8080/"
        },
        "id": "AGsL_LMzzvlF",
        "outputId": "3b812632-ef55-4605-a96c-72d999e5b7e2"
      },
      "source": [
        "print(\" Number Of Models Before join  = \",numOfModelsBefore,\" Number Of Models After join  = \",numOfModelsAfter)"
      ],
      "execution_count": 59,
      "outputs": [
        {
          "output_type": "stream",
          "name": "stdout",
          "text": [
            " Number Of Models Before join  =  1  Number Of Models After join  =  1\n"
          ]
        }
      ]
    },
    {
      "cell_type": "markdown",
      "metadata": {
        "id": "KSrEgrrJyxuD"
      },
      "source": [
        "**Note:** VW, GMC, Seat, Pontiac, Acura weren't in cars.csv so the models number matched in report csv file and cars csv file is just 10 not 15."
      ]
    },
    {
      "cell_type": "markdown",
      "metadata": {
        "id": "TcnKHJ3ylmqm"
      },
      "source": [
        "## Calculate the most country repeted in cars report based on the model"
      ]
    },
    {
      "cell_type": "code",
      "metadata": {
        "colab": {
          "base_uri": "https://localhost:8080/"
        },
        "id": "Dh3pucPpdJ4N",
        "outputId": "64d917bb-e5e7-463a-b50c-2c4c557915b6"
      },
      "source": [
        "dfUpdatedRank.createOrReplaceTempView(\"Cars\")\n",
        "spark.sql(\"select CountryOfOrigin,count(*) from Cars GROUP BY CountryOfOrigin ORDER BY count(*) desc\").show(1)"
      ],
      "execution_count": 60,
      "outputs": [
        {
          "output_type": "stream",
          "name": "stdout",
          "text": [
            "+---------------+--------+\n",
            "|CountryOfOrigin|count(1)|\n",
            "+---------------+--------+\n",
            "|        America|       1|\n",
            "+---------------+--------+\n",
            "\n"
          ]
        }
      ]
    }
  ]
}