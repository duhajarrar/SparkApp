{
  "nbformat": 4,
  "nbformat_minor": 0,
  "metadata": {
    "colab": {
      "name": "Spark.ipynb",
      "provenance": [],
      "collapsed_sections": [],
      "toc_visible": true,
      "mount_file_id": "https://github.com/duhajarrar/SparkApp/blob/main/Spark.ipynb",
      "authorship_tag": "ABX9TyPsVxHGGpwfHAIciYSItQrE",
      "include_colab_link": true
    },
    "kernelspec": {
      "name": "python3",
      "display_name": "Python 3"
    },
    "language_info": {
      "name": "python"
    }
  },
  "cells": [
    {
      "cell_type": "markdown",
      "metadata": {
        "id": "view-in-github",
        "colab_type": "text"
      },
      "source": [
        "<a href=\"https://colab.research.google.com/github/duhajarrar/SparkApp/blob/main/Spark.ipynb\" target=\"_parent\"><img src=\"https://colab.research.google.com/assets/colab-badge.svg\" alt=\"Open In Colab\"/></a>"
      ]
    },
    {
      "cell_type": "markdown",
      "metadata": {
        "id": "4CUxOTY6cMjF"
      },
      "source": [
        "# Install Spark"
      ]
    },
    {
      "cell_type": "code",
      "metadata": {
        "colab": {
          "base_uri": "https://localhost:8080/"
        },
        "id": "8L9jRiftyQkO",
        "outputId": "8231a15f-3ff8-4f1b-d967-65164d76b39f"
      },
      "source": [
        "!pip install pyspark"
      ],
      "execution_count": null,
      "outputs": [
        {
          "output_type": "stream",
          "name": "stdout",
          "text": [
            "Requirement already satisfied: pyspark in /usr/local/lib/python3.7/dist-packages (3.2.0)\n",
            "Requirement already satisfied: py4j==0.10.9.2 in /usr/local/lib/python3.7/dist-packages (from pyspark) (0.10.9.2)\n"
          ]
        }
      ]
    },
    {
      "cell_type": "markdown",
      "metadata": {
        "id": "V_lAjD5QcAVV"
      },
      "source": [
        "# Import libraries"
      ]
    },
    {
      "cell_type": "code",
      "metadata": {
        "id": "AXBYe3Nmjdiv"
      },
      "source": [
        "import pyspark.sql.functions as f\n",
        "from pyspark.sql import SparkSession\n",
        "import functools\n",
        "import pyspark\n",
        "from pyspark import SparkContext"
      ],
      "execution_count": null,
      "outputs": []
    },
    {
      "cell_type": "markdown",
      "metadata": {
        "id": "1NiKiwxjcTjj"
      },
      "source": [
        "# Read The Dataset"
      ]
    },
    {
      "cell_type": "code",
      "metadata": {
        "id": "CvJ5m3rxwPCc",
        "colab": {
          "base_uri": "https://localhost:8080/"
        },
        "outputId": "234792f2-f3cd-4e55-bfcf-5ff98027bddb"
      },
      "source": [
        "#TODO: Read about spark local Vs cluster mode \n",
        "#TODO: Read about spark session Vs spark context \n",
        "spark = SparkSession.builder.master(\"local[1]\").appName(\"SparkApp\").getOrCreate()\n",
        "\n",
        "#TODO: Read about RDD Vs DF Vs Dataset\n",
        "dfCar=spark.read.option(\"header\",True).csv(\"/content/drive/MyDrive/Spark-Harri/cars.csv\")\n",
        "dfCar.printSchema()\n",
        "print(type(spark),type(dfCar))\n",
        "dfCar.show(5)\n",
        "print(dfCar.columns)"
      ],
      "execution_count": null,
      "outputs": [
        {
          "output_type": "stream",
          "name": "stdout",
          "text": [
            "root\n",
            " |-- Car Brand: string (nullable = true)\n",
            " |-- Country of Origin: string (nullable = true)\n",
            "\n",
            "<class 'pyspark.sql.session.SparkSession'> <class 'pyspark.sql.dataframe.DataFrame'>\n",
            "+------------+-----------------+\n",
            "|   Car Brand|Country of Origin|\n",
            "+------------+-----------------+\n",
            "|      Abarth|            Italy|\n",
            "|  Alfa Romeo|            Italy|\n",
            "|Aston Martin|          England|\n",
            "|        Audi|          Germany|\n",
            "|     Bentley|          England|\n",
            "+------------+-----------------+\n",
            "only showing top 5 rows\n",
            "\n",
            "['Car Brand', 'Country of Origin']\n"
          ]
        }
      ]
    },
    {
      "cell_type": "markdown",
      "metadata": {
        "id": "43hChPgzcd_F"
      },
      "source": [
        "# Task1: Extract a file which contains the car model and the country of origin of this car."
      ]
    },
    {
      "cell_type": "code",
      "metadata": {
        "id": "Ra01UNTcy9vX"
      },
      "source": [
        "#TODO: Read about shuffling \n",
        "#TODO: Read about Transformation Vs Action\n",
        "rows = dfCar.count()\n",
        "#dfCar.repartition(rows).write.csv('/content/drive/MyDrive/Spark-Harri/Cars')"
      ],
      "execution_count": null,
      "outputs": []
    },
    {
      "cell_type": "markdown",
      "metadata": {
        "id": "zFCxGj7ucp4v"
      },
      "source": [
        "# Task2: Extract one file per country"
      ]
    },
    {
      "cell_type": "code",
      "metadata": {
        "id": "fNxXPCBc0fqV"
      },
      "source": [
        "dfCar.write.partitionBy('Country Of Origin').mode(\"overwrite\").csv('/content/drive/MyDrive/Spark-Harri/Country Of Origin')"
      ],
      "execution_count": null,
      "outputs": []
    },
    {
      "cell_type": "markdown",
      "metadata": {
        "id": "ZGmMnuQhnzCZ"
      },
      "source": [
        "# Task3: Use caching properly to optimize the performance"
      ]
    },
    {
      "cell_type": "code",
      "metadata": {
        "id": "kItspzV3n3o8"
      },
      "source": [
        "#TODO: Use Cache Vs Persist \n",
        "dfCar=dfCar.cache()"
      ],
      "execution_count": null,
      "outputs": []
    },
    {
      "cell_type": "markdown",
      "metadata": {
        "id": "zCOuUZF6c6id"
      },
      "source": [
        "# Task4: Expect to read a file with updated records, you should be able to merge these updates with the original dataset."
      ]
    },
    {
      "cell_type": "markdown",
      "metadata": {
        "id": "D2O2iJ7-fZ5C"
      },
      "source": [
        "## Read 2015_State_Top10Report_wTotalThefts file"
      ]
    },
    {
      "cell_type": "code",
      "metadata": {
        "colab": {
          "base_uri": "https://localhost:8080/"
        },
        "id": "IPRE74-jfYMB",
        "outputId": "ce77fe39-7764-486a-e686-4fe33ca056f7"
      },
      "source": [
        "from pyspark.sql.types import IntegerType\n",
        "dfReport=spark.read.option(\"header\",True).csv(\"/content/drive/MyDrive/Spark-Harri/2015_State_Top10Report_wTotalThefts.csv\")\n",
        "dfReport=dfReport.withColumn(\"Thefts\",dfReport.Thefts.cast('long'))\n",
        "dfReport.printSchema()\n",
        "dfReport.show()"
      ],
      "execution_count": null,
      "outputs": [
        {
          "output_type": "stream",
          "name": "stdout",
          "text": [
            "root\n",
            " |-- State: string (nullable = true)\n",
            " |-- Rank: string (nullable = true)\n",
            " |-- Make/Model: string (nullable = true)\n",
            " |-- Model Year: string (nullable = true)\n",
            " |-- Thefts: long (nullable = true)\n",
            "\n",
            "+-------+----+--------------------+----------+------+\n",
            "|  State|Rank|          Make/Model|Model Year|Thefts|\n",
            "+-------+----+--------------------+----------+------+\n",
            "|Alabama|   1|Chevrolet Pickup ...|      2005|   499|\n",
            "|Alabama|   2|Ford Pickup (Full...|      2006|   357|\n",
            "|Alabama|   3|        Toyota Camry|      2014|   205|\n",
            "|Alabama|   4|       Nissan Altima|      2014|   191|\n",
            "|Alabama|   4|    Chevrolet Impala|      2004|   191|\n",
            "|Alabama|   5|        Honda Accord|      1998|   180|\n",
            "|Alabama|   6|GMC Pickup (Full ...|      1999|   152|\n",
            "|Alabama|   7|Dodge Pickup (Ful...|      1998|   138|\n",
            "|Alabama|   8|        Ford Mustang|      2002|   122|\n",
            "|Alabama|   9|       Ford Explorer|      2002|   119|\n",
            "| Alaska|   1|Chevrolet Pickup ...|      2003|   147|\n",
            "| Alaska|   2|Ford Pickup (Full...|      2004|    95|\n",
            "| Alaska|   3|GMC Pickup (Full ...|      1997|    58|\n",
            "| Alaska|   4|         Honda Civic|      2000|    56|\n",
            "| Alaska|   5|        Honda Accord|      1993|    46|\n",
            "| Alaska|   6|Dodge Pickup (Ful...|      1998|    44|\n",
            "| Alaska|   7|       Ford Explorer|      1994|    31|\n",
            "| Alaska|   8|Jeep Cherokee/Gra...|      1999|    28|\n",
            "| Alaska|   9|Ford Pickup (Smal...|      2000|    22|\n",
            "| Alaska|  10|Chevrolet Pickup ...|      1998|    20|\n",
            "+-------+----+--------------------+----------+------+\n",
            "only showing top 20 rows\n",
            "\n"
          ]
        }
      ]
    },
    {
      "cell_type": "markdown",
      "metadata": {
        "id": "u_LiMplXgCE8"
      },
      "source": [
        "Rename some columns to make it easy to use them."
      ]
    },
    {
      "cell_type": "code",
      "metadata": {
        "id": "oArAsnENf-EB"
      },
      "source": [
        "dfReport=dfReport.withColumnRenamed('Make/Model','MakeModel').withColumnRenamed('Model Year','ModelYear')"
      ],
      "execution_count": null,
      "outputs": []
    },
    {
      "cell_type": "markdown",
      "metadata": {
        "id": "ejB2hftSf0Wa"
      },
      "source": [
        "## Read Updated - Sheet1 file"
      ]
    },
    {
      "cell_type": "code",
      "metadata": {
        "colab": {
          "base_uri": "https://localhost:8080/"
        },
        "id": "svKu77azcpGl",
        "outputId": "c84a5577-5c82-441e-9648-0bd0502cf8d3"
      },
      "source": [
        "dfUpdate=spark.read.option(\"header\",True).csv(\"/content/drive/MyDrive/Spark-Harri/Updated - Sheet1.csv\")\n",
        "dfUpdate=dfUpdate.dropna()\n",
        "dfUpdate=dfUpdate.withColumn(\"Thefts\",dfUpdate.Thefts.cast('long'))\n",
        "dfUpdate.printSchema()\n",
        "dfUpdate.show()"
      ],
      "execution_count": null,
      "outputs": [
        {
          "output_type": "stream",
          "name": "stdout",
          "text": [
            "root\n",
            " |-- State: string (nullable = true)\n",
            " |-- Rank: string (nullable = true)\n",
            " |-- Make/Model: string (nullable = true)\n",
            " |-- Model Year: string (nullable = true)\n",
            " |-- Thefts: long (nullable = true)\n",
            "\n",
            "+------------+----+--------------------+----------+------+\n",
            "|       State|Rank|          Make/Model|Model Year|Thefts|\n",
            "+------------+----+--------------------+----------+------+\n",
            "|    Arkansas|   6|       Nissan Altima|      2015|  3000|\n",
            "|       Idaho|   8|Jeep Cherokee/Gra...|      1997|    19|\n",
            "|   Minnesota|   1|         Honda Civic|      1998|    50|\n",
            "|   Minnesota|   2|        Honda Accord|      1997|    20|\n",
            "|    Virginia|   7|      Toyota Corolla|      2013|   900|\n",
            "|    Virginia|   8|       Ford Explorer|      2002|   543|\n",
            "|North Dakota|   9|    Pontiac Grand Am|      2000|  2100|\n",
            "|    New York|   5|           Seat Leon|      2019|    11|\n",
            "|       Maine|   2|             VW Golf|      2021|     6|\n",
            "+------------+----+--------------------+----------+------+\n",
            "\n"
          ]
        }
      ]
    },
    {
      "cell_type": "markdown",
      "metadata": {
        "id": "RZWpy0yzgY5y"
      },
      "source": [
        "Rename some columns to make it easy to use them."
      ]
    },
    {
      "cell_type": "code",
      "metadata": {
        "colab": {
          "base_uri": "https://localhost:8080/"
        },
        "id": "VpgXjAWihhyS",
        "outputId": "fd873b00-2a65-4aab-cf5c-97da3f6bab6f"
      },
      "source": [
        "dfUpdate=dfUpdate.withColumnRenamed('Make/Model','MakeModel').withColumnRenamed('Model Year','ModelYear')\n",
        "print(dfUpdate.columns)"
      ],
      "execution_count": null,
      "outputs": [
        {
          "output_type": "stream",
          "name": "stdout",
          "text": [
            "['State', 'Rank', 'MakeModel', 'ModelYear', 'Thefts']\n"
          ]
        }
      ]
    },
    {
      "cell_type": "code",
      "metadata": {
        "colab": {
          "base_uri": "https://localhost:8080/"
        },
        "id": "4vOlGnGKaclc",
        "outputId": "7d4b1bb7-15e9-4785-c6db-e7fb826f5c72"
      },
      "source": [
        "dfUpdate.count()"
      ],
      "execution_count": null,
      "outputs": [
        {
          "output_type": "execute_result",
          "data": {
            "text/plain": [
              "9"
            ]
          },
          "metadata": {},
          "execution_count": 136
        }
      ]
    },
    {
      "cell_type": "code",
      "metadata": {
        "colab": {
          "base_uri": "https://localhost:8080/"
        },
        "id": "2A1T-QmUaKhz",
        "outputId": "e05a22f4-f728-4399-81b6-6033dca12e6b"
      },
      "source": [
        "dfReport.count()"
      ],
      "execution_count": null,
      "outputs": [
        {
          "output_type": "execute_result",
          "data": {
            "text/plain": [
              "510"
            ]
          },
          "metadata": {},
          "execution_count": 137
        }
      ]
    },
    {
      "cell_type": "markdown",
      "metadata": {
        "id": "_qMSInPWgeNI"
      },
      "source": [
        "## Update the Report dataset using the updated dataset "
      ]
    },
    {
      "cell_type": "code",
      "metadata": {
        "id": "Fyaj1ZAbih-B"
      },
      "source": [
        "#TODO: Explanation Inner and Outer\n",
        "#TODO(Done): Update should be as => New record should be inserted and \n",
        "#                             Update should be updated and \n",
        "#                             Old record should be kept\n",
        "#dfUpdatedRank=dfReport.alias('a').join(dfUpdate.alias('b'), ['State','MakeModel','ModelYear','Thefts'],how='outer').select('State','MakeModel','ModelYear','Thefts',f.coalesce('b.Rank', 'a.Rank').alias('Rank'))\n",
        "#dfUpdatedRank.show(5)"
      ],
      "execution_count": null,
      "outputs": []
    },
    {
      "cell_type": "code",
      "metadata": {
        "id": "cvYG_VEikTYU",
        "colab": {
          "base_uri": "https://localhost:8080/"
        },
        "outputId": "9102f3d1-c97c-44f9-dbbc-e6fb1b15af04"
      },
      "source": [
        "dfUpdatedThefts=dfReport.alias('a').join(dfUpdate.alias('b'), ['State','MakeModel','ModelYear','Rank'], how='outer').select('State','MakeModel','ModelYear','Rank',f.coalesce('b.Thefts', 'a.Thefts').alias('Thefts'))\n",
        "dfUpdatedThefts.show(5)"
      ],
      "execution_count": null,
      "outputs": [
        {
          "output_type": "stream",
          "name": "stdout",
          "text": [
            "+-------+--------------------+---------+----+------+\n",
            "|  State|           MakeModel|ModelYear|Rank|Thefts|\n",
            "+-------+--------------------+---------+----+------+\n",
            "|Alabama|    Chevrolet Impala|     2004|   4|   191|\n",
            "|Alabama|Chevrolet Pickup ...|     2005|   1|   499|\n",
            "|Alabama|Dodge Pickup (Ful...|     1998|   7|   138|\n",
            "|Alabama|       Ford Explorer|     2002|   9|   119|\n",
            "|Alabama|        Ford Mustang|     2002|   8|   122|\n",
            "+-------+--------------------+---------+----+------+\n",
            "only showing top 5 rows\n",
            "\n"
          ]
        }
      ]
    },
    {
      "cell_type": "code",
      "metadata": {
        "id": "gEtSFfR5aMyi"
      },
      "source": [
        "# dfUpdatedThefts.count()"
      ],
      "execution_count": null,
      "outputs": []
    },
    {
      "cell_type": "markdown",
      "metadata": {
        "id": "gAPxevtGhnAf"
      },
      "source": [
        "# Create Cars table "
      ]
    },
    {
      "cell_type": "code",
      "metadata": {
        "id": "MHmfob8Wv4ef"
      },
      "source": [
        "dfUpdatedThefts=dfUpdatedThefts.withColumn(\"Thefts\",dfUpdatedThefts.Thefts.cast('long'))"
      ],
      "execution_count": null,
      "outputs": []
    },
    {
      "cell_type": "code",
      "metadata": {
        "id": "cGwl1iKZhnnB"
      },
      "source": [
        "dfUpdatedThefts.createOrReplaceTempView(\"Cars\")"
      ],
      "execution_count": null,
      "outputs": []
    },
    {
      "cell_type": "markdown",
      "metadata": {
        "id": "mAfCqLbrdbAy"
      },
      "source": [
        "# Task5:List the most 5 thefted models in U.S"
      ]
    },
    {
      "cell_type": "code",
      "metadata": {
        "colab": {
          "base_uri": "https://localhost:8080/"
        },
        "id": "Ky3l9Fmrb9af",
        "outputId": "2317110d-5022-476b-892f-dfea4fca0c93"
      },
      "source": [
        "#TODO(Done): Use Sum of the thefts insted of max thefts \n",
        "spark.sql(\"select MakeModel,SUM(Thefts) from Cars GROUP BY MakeModel ORDER BY SUM(Thefts) desc\").show(5)"
      ],
      "execution_count": null,
      "outputs": [
        {
          "output_type": "stream",
          "name": "stdout",
          "text": [
            "+--------------------+-----------+\n",
            "|           MakeModel|sum(Thefts)|\n",
            "+--------------------+-----------+\n",
            "|        Honda Accord|      51371|\n",
            "|         Honda Civic|      47341|\n",
            "|Ford Pickup (Full...|      29094|\n",
            "|Chevrolet Pickup ...|      27528|\n",
            "|        Toyota Camry|      14791|\n",
            "+--------------------+-----------+\n",
            "only showing top 5 rows\n",
            "\n"
          ]
        }
      ]
    },
    {
      "cell_type": "markdown",
      "metadata": {
        "id": "Ey3m6PUEdWdZ"
      },
      "source": [
        "# Task6:List the most 5 states based on the number of thefted cars."
      ]
    },
    {
      "cell_type": "code",
      "metadata": {
        "colab": {
          "base_uri": "https://localhost:8080/"
        },
        "id": "qofl8ogYb1QF",
        "outputId": "bc7bbb85-50e7-48ed-ee75-5c9c0ed01275"
      },
      "source": [
        "#TODO(Done): Use Sum of the thefts insted of max thefts \n",
        "spark.sql(\"select State,SUM(Thefts) from Cars GROUP BY State ORDER BY SUM(Thefts) desc\").show(5)"
      ],
      "execution_count": null,
      "outputs": [
        {
          "output_type": "stream",
          "name": "stdout",
          "text": [
            "+----------+-----------+\n",
            "|     State|sum(Thefts)|\n",
            "+----------+-----------+\n",
            "|California|      86768|\n",
            "|     Texas|      25433|\n",
            "|Washington|      11008|\n",
            "|   Florida|       9664|\n",
            "|   Georgia|       6497|\n",
            "+----------+-----------+\n",
            "only showing top 5 rows\n",
            "\n"
          ]
        }
      ]
    },
    {
      "cell_type": "markdown",
      "metadata": {
        "id": "uPG7DYzqdf5f"
      },
      "source": [
        "# Task7:Based on the models, what is the most country from where Americans buy their cars"
      ]
    },
    {
      "cell_type": "markdown",
      "metadata": {
        "id": "qmVbYnbDh3MV"
      },
      "source": [
        "## Extract Model name "
      ]
    },
    {
      "cell_type": "markdown",
      "metadata": {
        "id": "MJHjmg6aiHxi"
      },
      "source": [
        "We need to extract model name then join it with it's country (using cars.csv file)"
      ]
    },
    {
      "cell_type": "code",
      "metadata": {
        "colab": {
          "base_uri": "https://localhost:8080/"
        },
        "id": "Ix41QgwfJpgB",
        "outputId": "fa849825-c8e9-4e19-b067-f572cbd880ea"
      },
      "source": [
        "split_col = pyspark.sql.functions.split(dfUpdatedThefts['MakeModel'], ' ')\n",
        "dfUpdatedThefts = dfUpdatedThefts.withColumn('MakeModel', split_col.getItem(0))\n",
        "dfUpdatedThefts.show(5)"
      ],
      "execution_count": null,
      "outputs": [
        {
          "output_type": "stream",
          "name": "stdout",
          "text": [
            "+-------+---------+---------+----+------+\n",
            "|  State|MakeModel|ModelYear|Rank|Thefts|\n",
            "+-------+---------+---------+----+------+\n",
            "|Alabama|Chevrolet|     2004|   4|   191|\n",
            "|Alabama|Chevrolet|     2005|   1|   499|\n",
            "|Alabama|    Dodge|     1998|   7|   138|\n",
            "|Alabama|     Ford|     2002|   9|   119|\n",
            "|Alabama|     Ford|     2002|   8|   122|\n",
            "+-------+---------+---------+----+------+\n",
            "only showing top 5 rows\n",
            "\n"
          ]
        }
      ]
    },
    {
      "cell_type": "code",
      "metadata": {
        "id": "LVlCqrUom-jX"
      },
      "source": [
        "numOfModelsBefore=dfUpdatedThefts.select('MakeModel').distinct().count()"
      ],
      "execution_count": null,
      "outputs": []
    },
    {
      "cell_type": "code",
      "metadata": {
        "id": "i3_G4yB_xeUq"
      },
      "source": [
        "#dfUpdatedThefts.select('MakeModel').distinct().show()"
      ],
      "execution_count": null,
      "outputs": []
    },
    {
      "cell_type": "markdown",
      "metadata": {
        "id": "EdGBIxRnlXYt"
      },
      "source": [
        "Rename Car Brand column "
      ]
    },
    {
      "cell_type": "code",
      "metadata": {
        "colab": {
          "base_uri": "https://localhost:8080/"
        },
        "id": "V80lkqFqMS2Y",
        "outputId": "a98cbd5b-e07c-4929-c92d-c2a50cce5245"
      },
      "source": [
        "dfCar=dfCar.withColumnRenamed('Car Brand','MakeModel').withColumnRenamed('Country of Origin','CountryOfOrigin')\n",
        "dfCar.show(5)"
      ],
      "execution_count": null,
      "outputs": [
        {
          "output_type": "stream",
          "name": "stdout",
          "text": [
            "+------------+---------------+\n",
            "|   MakeModel|CountryOfOrigin|\n",
            "+------------+---------------+\n",
            "|      Abarth|          Italy|\n",
            "|  Alfa Romeo|          Italy|\n",
            "|Aston Martin|        England|\n",
            "|        Audi|        Germany|\n",
            "|     Bentley|        England|\n",
            "+------------+---------------+\n",
            "only showing top 5 rows\n",
            "\n"
          ]
        }
      ]
    },
    {
      "cell_type": "markdown",
      "metadata": {
        "id": "uX6PE8jxletI"
      },
      "source": [
        "## Join cars dataset with report dataset"
      ]
    },
    {
      "cell_type": "code",
      "metadata": {
        "colab": {
          "base_uri": "https://localhost:8080/"
        },
        "id": "NaKak4VOSURn",
        "outputId": "835dfd67-0084-4faf-e1d2-fcb2994639b5"
      },
      "source": [
        "dfUpdatedThefts=dfUpdatedThefts.join(dfCar, ['MakeModel'], 'inner')\n",
        "dfUpdatedThefts.show(5)"
      ],
      "execution_count": null,
      "outputs": [
        {
          "output_type": "stream",
          "name": "stdout",
          "text": [
            "+---------+-------+---------+----+------+---------------+\n",
            "|MakeModel|  State|ModelYear|Rank|Thefts|CountryOfOrigin|\n",
            "+---------+-------+---------+----+------+---------------+\n",
            "|Chevrolet|Alabama|     2004|   4|   191|        America|\n",
            "|Chevrolet|Alabama|     2005|   1|   499|        America|\n",
            "|    Dodge|Alabama|     1998|   7|   138|        America|\n",
            "|     Ford|Alabama|     2002|   9|   119|        America|\n",
            "|     Ford|Alabama|     2002|   8|   122|        America|\n",
            "+---------+-------+---------+----+------+---------------+\n",
            "only showing top 5 rows\n",
            "\n"
          ]
        }
      ]
    },
    {
      "cell_type": "code",
      "metadata": {
        "id": "o4Iv_eWjnNrP"
      },
      "source": [
        "numOfModelsAfter=dfUpdatedThefts.select('MakeModel').distinct().count()"
      ],
      "execution_count": null,
      "outputs": []
    },
    {
      "cell_type": "code",
      "metadata": {
        "id": "stR4xQ52xjTV"
      },
      "source": [
        "#dfUpdatedThefts.select('MakeModel').distinct().show()"
      ],
      "execution_count": null,
      "outputs": []
    },
    {
      "cell_type": "code",
      "metadata": {
        "id": "HVdGO5rqxxzR"
      },
      "source": [
        "#dfCar.select('MakeModel').distinct().show()"
      ],
      "execution_count": null,
      "outputs": []
    },
    {
      "cell_type": "markdown",
      "metadata": {
        "id": "Lbs35dWA5X2x"
      },
      "source": [
        "**Important**"
      ]
    },
    {
      "cell_type": "code",
      "metadata": {
        "colab": {
          "base_uri": "https://localhost:8080/"
        },
        "id": "3LpbRUjgWci6",
        "outputId": "35cfa33f-43f4-4f98-a068-93a0c64ab324"
      },
      "source": [
        "print(\"Number of models in cars.csv file = \",dfCar.select('MakeModel').distinct().count())"
      ],
      "execution_count": null,
      "outputs": [
        {
          "output_type": "stream",
          "name": "stdout",
          "text": [
            "Number of models in cars.csv file =  58\n"
          ]
        }
      ]
    },
    {
      "cell_type": "code",
      "metadata": {
        "colab": {
          "base_uri": "https://localhost:8080/"
        },
        "id": "AGsL_LMzzvlF",
        "outputId": "22f415da-5fd7-494f-d62a-c3df23d28de1"
      },
      "source": [
        "print(\" Number Of Models Before join  = \",numOfModelsBefore,\" Number Of Models After join  = \",numOfModelsAfter)"
      ],
      "execution_count": null,
      "outputs": [
        {
          "output_type": "stream",
          "name": "stdout",
          "text": [
            " Number Of Models Before join  =  15  Number Of Models After join  =  10\n"
          ]
        }
      ]
    },
    {
      "cell_type": "markdown",
      "metadata": {
        "id": "KSrEgrrJyxuD"
      },
      "source": [
        "**Note:** VW, GMC, Seat, Pontiac, Acura weren't in cars.csv so the models number matched in report csv file and cars csv file is just 10 not 15."
      ]
    },
    {
      "cell_type": "markdown",
      "metadata": {
        "id": "TcnKHJ3ylmqm"
      },
      "source": [
        "## Calculate the most country repeted in cars report based on the model"
      ]
    },
    {
      "cell_type": "code",
      "metadata": {
        "colab": {
          "base_uri": "https://localhost:8080/"
        },
        "id": "Dh3pucPpdJ4N",
        "outputId": "13c34d2f-5b3d-4c4f-df6d-823ccaf477e6"
      },
      "source": [
        "dfUpdatedThefts.createOrReplaceTempView(\"Cars\")\n",
        "spark.sql(\"select CountryOfOrigin,count(*) from Cars GROUP BY CountryOfOrigin ORDER BY count(*) desc\").show(1)"
      ],
      "execution_count": null,
      "outputs": [
        {
          "output_type": "stream",
          "name": "stdout",
          "text": [
            "+---------------+--------+\n",
            "|CountryOfOrigin|count(1)|\n",
            "+---------------+--------+\n",
            "|        America|     267|\n",
            "+---------------+--------+\n",
            "only showing top 1 row\n",
            "\n"
          ]
        }
      ]
    }
  ]
}