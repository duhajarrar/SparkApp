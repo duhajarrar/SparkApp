{
  "nbformat": 4,
  "nbformat_minor": 0,
  "metadata": {
    "colab": {
      "name": "Spark.ipynb",
      "provenance": [],
      "collapsed_sections": [],
      "toc_visible": true,
      "mount_file_id": "1ttUYBuFOBrHeBRvgQ_pV2ye49XYf7-sC",
      "authorship_tag": "ABX9TyOcSH7LCB0uFKu2A91dC7E4",
      "include_colab_link": true
    },
    "kernelspec": {
      "name": "python3",
      "display_name": "Python 3"
    },
    "language_info": {
      "name": "python"
    }
  },
  "cells": [
    {
      "cell_type": "markdown",
      "metadata": {
        "id": "view-in-github",
        "colab_type": "text"
      },
      "source": [
        "<a href=\"https://colab.research.google.com/github/duhajarrar/SparkApp/blob/main/Spark.ipynb\" target=\"_parent\"><img src=\"https://colab.research.google.com/assets/colab-badge.svg\" alt=\"Open In Colab\"/></a>"
      ]
    },
    {
      "cell_type": "markdown",
      "metadata": {
        "id": "4CUxOTY6cMjF"
      },
      "source": [
        "# Install Spark"
      ]
    },
    {
      "cell_type": "code",
      "metadata": {
        "colab": {
          "base_uri": "https://localhost:8080/"
        },
        "id": "8L9jRiftyQkO",
        "outputId": "22663281-a4c3-49d2-affb-984a09431f8f"
      },
      "source": [
        "!pip install pyspark"
      ],
      "execution_count": null,
      "outputs": [
        {
          "output_type": "stream",
          "name": "stdout",
          "text": [
            "Requirement already satisfied: pyspark in /usr/local/lib/python3.7/dist-packages (3.2.0)\n",
            "Requirement already satisfied: py4j==0.10.9.2 in /usr/local/lib/python3.7/dist-packages (from pyspark) (0.10.9.2)\n"
          ]
        }
      ]
    },
    {
      "cell_type": "markdown",
      "metadata": {
        "id": "V_lAjD5QcAVV"
      },
      "source": [
        "# Import libraries"
      ]
    },
    {
      "cell_type": "code",
      "metadata": {
        "id": "AXBYe3Nmjdiv"
      },
      "source": [
        "import pyspark.sql.functions as f\n",
        "from pyspark.sql import SparkSession\n",
        "import functools\n",
        "import pyspark\n",
        "from pyspark import SparkContext"
      ],
      "execution_count": null,
      "outputs": []
    },
    {
      "cell_type": "markdown",
      "metadata": {
        "id": "1NiKiwxjcTjj"
      },
      "source": [
        "# Read The Dataset"
      ]
    },
    {
      "cell_type": "code",
      "metadata": {
        "id": "CvJ5m3rxwPCc",
        "colab": {
          "base_uri": "https://localhost:8080/"
        },
        "outputId": "cd119c2b-b45d-4e0f-bb54-aca201161fc5"
      },
      "source": [
        "spark = SparkSession.builder.master(\"local[1]\").appName(\"SparkApp\").getOrCreate()\n",
        "dfCar=spark.read.option(\"header\",True).csv(\"/content/drive/MyDrive/Spark-Harri/cars.csv\")\n",
        "dfCar.printSchema()\n",
        "print(type(spark),type(dfCar))\n",
        "dfCar.show(5)\n",
        "print(dfCar.columns)"
      ],
      "execution_count": null,
      "outputs": [
        {
          "output_type": "stream",
          "name": "stdout",
          "text": [
            "root\n",
            " |-- Car Brand: string (nullable = true)\n",
            " |-- Country of Origin: string (nullable = true)\n",
            "\n",
            "<class 'pyspark.sql.session.SparkSession'> <class 'pyspark.sql.dataframe.DataFrame'>\n",
            "+------------+-----------------+\n",
            "|   Car Brand|Country of Origin|\n",
            "+------------+-----------------+\n",
            "|      Abarth|            Italy|\n",
            "|  Alfa Romeo|            Italy|\n",
            "|Aston Martin|          England|\n",
            "|        Audi|          Germany|\n",
            "|     Bentley|          England|\n",
            "+------------+-----------------+\n",
            "only showing top 5 rows\n",
            "\n",
            "['Car Brand', 'Country of Origin']\n"
          ]
        }
      ]
    },
    {
      "cell_type": "markdown",
      "metadata": {
        "id": "43hChPgzcd_F"
      },
      "source": [
        "# Task1: Extract a file which contains the car model and the country of origin of this car."
      ]
    },
    {
      "cell_type": "code",
      "metadata": {
        "id": "Ra01UNTcy9vX"
      },
      "source": [
        "rows = dfCar.count()\n",
        "dfCar.repartition(rows).write.csv('/content/drive/MyDrive/Spark-Harri/Cars')"
      ],
      "execution_count": null,
      "outputs": []
    },
    {
      "cell_type": "markdown",
      "metadata": {
        "id": "zFCxGj7ucp4v"
      },
      "source": [
        "# Task2: Extract one file per country"
      ]
    },
    {
      "cell_type": "code",
      "metadata": {
        "id": "fNxXPCBc0fqV"
      },
      "source": [
        "dfCar.write.partitionBy('Country Of Origin').mode(\"overwrite\").csv('/content/drive/MyDrive/Spark-Harri/Country Of Origin')"
      ],
      "execution_count": null,
      "outputs": []
    },
    {
      "cell_type": "code",
      "metadata": {
        "id": "E5yPVJNkispD"
      },
      "source": [
        "# from pyspark import SparkContext\n",
        "# sc = SparkContext(\"local\", \"First App\")"
      ],
      "execution_count": null,
      "outputs": []
    },
    {
      "cell_type": "code",
      "metadata": {
        "id": "bium5C70mRzZ"
      },
      "source": [
        "# sc.parallelize(dfCar)"
      ],
      "execution_count": null,
      "outputs": []
    },
    {
      "cell_type": "code",
      "metadata": {
        "id": "TVKOPqW0E9PG"
      },
      "source": [
        "# rddCar=dfCar.rdd\n",
        "# print(rddObj.collect())"
      ],
      "execution_count": null,
      "outputs": []
    },
    {
      "cell_type": "code",
      "metadata": {
        "id": "atgUiNhMq368"
      },
      "source": [
        "# def toCSVLine(data):\n",
        "#   return ','.join(str(d) for d in data)\n",
        "\n",
        "# lines = rddCar.map(toCSVLine)\n",
        "# lines.saveAsTextFile('/content/drive/MyDrive/Spark-Harri/Part2')"
      ],
      "execution_count": null,
      "outputs": []
    },
    {
      "cell_type": "code",
      "metadata": {
        "id": "2ZPVG5a2p-1h"
      },
      "source": [
        "#rddCar.saveAsTextFile()\n",
        "# rddCar.partitionBy('Country Of Origin')\n",
        "#.mode(\"overwrite\").csv('/content/drive/MyDrive/Spark-Harri/Part2')"
      ],
      "execution_count": null,
      "outputs": []
    },
    {
      "cell_type": "markdown",
      "metadata": {
        "id": "ZGmMnuQhnzCZ"
      },
      "source": [
        "# Task3: Use caching properly to optimize the performance"
      ]
    },
    {
      "cell_type": "code",
      "metadata": {
        "id": "kItspzV3n3o8"
      },
      "source": [
        "dfCar=dfCar.cache()"
      ],
      "execution_count": null,
      "outputs": []
    },
    {
      "cell_type": "markdown",
      "metadata": {
        "id": "zCOuUZF6c6id"
      },
      "source": [
        "# Task4: Expect to read a file with updated records, you should be able to merge these updates with the original dataset."
      ]
    },
    {
      "cell_type": "markdown",
      "metadata": {
        "id": "D2O2iJ7-fZ5C"
      },
      "source": [
        "## Read 2015_State_Top10Report_wTotalThefts file"
      ]
    },
    {
      "cell_type": "code",
      "metadata": {
        "colab": {
          "base_uri": "https://localhost:8080/"
        },
        "id": "IPRE74-jfYMB",
        "outputId": "3a7e1803-e88f-4dcb-cb10-61172fe389df"
      },
      "source": [
        "dfReport=spark.read.option(\"header\",True).csv(\"/content/drive/MyDrive/Spark-Harri/2015_State_Top10Report_wTotalThefts.csv\")\n",
        "dfReport.printSchema()\n",
        "dfReport=dfReport.withColumn(\"Thefts\",dfReport.Thefts.cast('int'))\n",
        "dfReport.show()"
      ],
      "execution_count": null,
      "outputs": [
        {
          "output_type": "stream",
          "name": "stdout",
          "text": [
            "root\n",
            " |-- State: string (nullable = true)\n",
            " |-- Rank: string (nullable = true)\n",
            " |-- Make/Model: string (nullable = true)\n",
            " |-- Model Year: string (nullable = true)\n",
            " |-- Thefts: string (nullable = true)\n",
            "\n",
            "+-------+----+--------------------+----------+------+\n",
            "|  State|Rank|          Make/Model|Model Year|Thefts|\n",
            "+-------+----+--------------------+----------+------+\n",
            "|Alabama|   1|Chevrolet Pickup ...|      2005|   499|\n",
            "|Alabama|   2|Ford Pickup (Full...|      2006|   357|\n",
            "|Alabama|   3|        Toyota Camry|      2014|   205|\n",
            "|Alabama|   4|       Nissan Altima|      2014|   191|\n",
            "|Alabama|   4|    Chevrolet Impala|      2004|   191|\n",
            "|Alabama|   5|        Honda Accord|      1998|   180|\n",
            "|Alabama|   6|GMC Pickup (Full ...|      1999|   152|\n",
            "|Alabama|   7|Dodge Pickup (Ful...|      1998|   138|\n",
            "|Alabama|   8|        Ford Mustang|      2002|   122|\n",
            "|Alabama|   9|       Ford Explorer|      2002|   119|\n",
            "| Alaska|   1|Chevrolet Pickup ...|      2003|   147|\n",
            "| Alaska|   2|Ford Pickup (Full...|      2004|    95|\n",
            "| Alaska|   3|GMC Pickup (Full ...|      1997|    58|\n",
            "| Alaska|   4|         Honda Civic|      2000|    56|\n",
            "| Alaska|   5|        Honda Accord|      1993|    46|\n",
            "| Alaska|   6|Dodge Pickup (Ful...|      1998|    44|\n",
            "| Alaska|   7|       Ford Explorer|      1994|    31|\n",
            "| Alaska|   8|Jeep Cherokee/Gra...|      1999|    28|\n",
            "| Alaska|   9|Ford Pickup (Smal...|      2000|    22|\n",
            "| Alaska|  10|Chevrolet Pickup ...|      1998|    20|\n",
            "+-------+----+--------------------+----------+------+\n",
            "only showing top 20 rows\n",
            "\n"
          ]
        }
      ]
    },
    {
      "cell_type": "markdown",
      "metadata": {
        "id": "u_LiMplXgCE8"
      },
      "source": [
        "Rename some columns to make it easy to use them."
      ]
    },
    {
      "cell_type": "code",
      "metadata": {
        "id": "oArAsnENf-EB"
      },
      "source": [
        "dfReport=dfReport.withColumnRenamed('Make/Model','MakeModel').withColumnRenamed('Model Year','ModelYear')"
      ],
      "execution_count": null,
      "outputs": []
    },
    {
      "cell_type": "markdown",
      "metadata": {
        "id": "ejB2hftSf0Wa"
      },
      "source": [
        "## Read Updated - Sheet1 file"
      ]
    },
    {
      "cell_type": "code",
      "metadata": {
        "colab": {
          "base_uri": "https://localhost:8080/"
        },
        "id": "svKu77azcpGl",
        "outputId": "6de5fe9b-aa27-4862-ee4d-783e30110ab5"
      },
      "source": [
        "dfUpdate=spark.read.option(\"header\",True).csv(\"/content/drive/MyDrive/Spark-Harri/Updated - Sheet1.csv\")\n",
        "dfUpdate.printSchema()\n",
        "dfUpdate=dfUpdate.withColumn(\"Thefts\",dfUpdate.Thefts.cast('int'))\n",
        "dfUpdate.show()"
      ],
      "execution_count": null,
      "outputs": [
        {
          "output_type": "stream",
          "name": "stdout",
          "text": [
            "root\n",
            " |-- State: string (nullable = true)\n",
            " |-- Rank: string (nullable = true)\n",
            " |-- Make/Model: string (nullable = true)\n",
            " |-- Model Year: string (nullable = true)\n",
            " |-- Thefts: string (nullable = true)\n",
            "\n",
            "+------------+----+--------------------+----------+------+\n",
            "|       State|Rank|          Make/Model|Model Year|Thefts|\n",
            "+------------+----+--------------------+----------+------+\n",
            "|    Arkansas|   6|       Nissan Altima|      2015|  3000|\n",
            "|       Idaho|   8|Jeep Cherokee/Gra...|      1997|    19|\n",
            "|   Minnesota|   1|         Honda Civic|      1998|    50|\n",
            "|   Minnesota|   2|        Honda Accord|      1997|    20|\n",
            "|    Virginia|   7|      Toyota Corolla|      2013|   900|\n",
            "|    Virginia|   8|       Ford Explorer|      2002|   543|\n",
            "|North Dakota|   9|    Pontiac Grand Am|      2000|  2100|\n",
            "|    New York|   5|           Seat Leon|      2019|    11|\n",
            "|       Maine|   2|             VW Golf|      2021|     6|\n",
            "+------------+----+--------------------+----------+------+\n",
            "\n"
          ]
        }
      ]
    },
    {
      "cell_type": "markdown",
      "metadata": {
        "id": "RZWpy0yzgY5y"
      },
      "source": [
        "Rename some columns to make it easy to use them."
      ]
    },
    {
      "cell_type": "code",
      "metadata": {
        "colab": {
          "base_uri": "https://localhost:8080/"
        },
        "id": "VpgXjAWihhyS",
        "outputId": "d928f8ec-5cd0-496b-c0f4-dad56cf79efb"
      },
      "source": [
        "dfUpdate=dfUpdate.withColumnRenamed('Make/Model','MakeModel').withColumnRenamed('Model Year','ModelYear')\n",
        "print(dfUpdate.columns)"
      ],
      "execution_count": null,
      "outputs": [
        {
          "output_type": "stream",
          "name": "stdout",
          "text": [
            "['State', 'Rank', 'MakeModel', 'ModelYear', 'Thefts']\n"
          ]
        }
      ]
    },
    {
      "cell_type": "markdown",
      "metadata": {
        "id": "_qMSInPWgeNI"
      },
      "source": [
        "## Update the Report dataset using the updated dataset "
      ]
    },
    {
      "cell_type": "code",
      "metadata": {
        "colab": {
          "base_uri": "https://localhost:8080/"
        },
        "id": "Fyaj1ZAbih-B",
        "outputId": "18424911-7cc9-427b-aa40-ea7990034a9e"
      },
      "source": [
        "dfUpdatedRank=dfReport.alias('a').join(dfUpdate.alias('b'), ['State','MakeModel','ModelYear','Thefts'],how='outer').select('State','MakeModel','ModelYear','Thefts',f.coalesce('b.Rank', 'a.Rank').alias('Rank'))\n",
        "dfUpdatedRank.show(5)"
      ],
      "execution_count": null,
      "outputs": [
        {
          "output_type": "stream",
          "name": "stdout",
          "text": [
            "+-------+--------------------+---------+------+----+\n",
            "|  State|           MakeModel|ModelYear|Thefts|Rank|\n",
            "+-------+--------------------+---------+------+----+\n",
            "|Alabama|    Chevrolet Impala|     2004|   191|   4|\n",
            "|Alabama|Chevrolet Pickup ...|     2005|   499|   1|\n",
            "|Alabama|Dodge Pickup (Ful...|     1998|   138|   7|\n",
            "|Alabama|       Ford Explorer|     2002|   119|   9|\n",
            "|Alabama|        Ford Mustang|     2002|   122|   8|\n",
            "+-------+--------------------+---------+------+----+\n",
            "only showing top 5 rows\n",
            "\n"
          ]
        }
      ]
    },
    {
      "cell_type": "code",
      "metadata": {
        "id": "cvYG_VEikTYU"
      },
      "source": [
        "# dfUpdatedThefts=dfReport.alias('a').join(dfUpdate.alias('b'), ['State','MakeModel','ModelYear','Rank'], how='outer').select('State','MakeModel','ModelYear','Rank',f.coalesce('b.Thefts', 'a.Thefts').alias('Thefts'))\n",
        "# dfUpdatedThefts.show(5)"
      ],
      "execution_count": null,
      "outputs": []
    },
    {
      "cell_type": "markdown",
      "metadata": {
        "id": "gAPxevtGhnAf"
      },
      "source": [
        "# Create Cars table "
      ]
    },
    {
      "cell_type": "code",
      "metadata": {
        "id": "DDOkWZVcrwNM"
      },
      "source": [
        "dfUpdatedRank=dfUpdatedRank.withColumn(\"Thefts\",dfUpdatedRank.Thefts.cast('int'))"
      ],
      "execution_count": null,
      "outputs": []
    },
    {
      "cell_type": "code",
      "metadata": {
        "id": "qO6wz77QvodX"
      },
      "source": [
        "dfMost5Thefts=dfUpdatedRank.sort('Thefts',ascending=False)"
      ],
      "execution_count": null,
      "outputs": []
    },
    {
      "cell_type": "code",
      "metadata": {
        "colab": {
          "base_uri": "https://localhost:8080/"
        },
        "id": "MHmfob8Wv4ef",
        "outputId": "d168309f-06f5-4cfa-d857-669f7d2a6c30"
      },
      "source": [
        "dfMost5Thefts.show()"
      ],
      "execution_count": null,
      "outputs": [
        {
          "output_type": "stream",
          "name": "stdout",
          "text": [
            "+------------+--------------------+---------+------+----+\n",
            "|       State|           MakeModel|ModelYear|Thefts|Rank|\n",
            "+------------+--------------------+---------+------+----+\n",
            "|    Arkansas|       Nissan Altima|     2015|  3000|   6|\n",
            "|North Dakota|    Pontiac Grand Am|     2000|  2100|   9|\n",
            "|       Texas|       Nissan Altima|     2012|   957|   9|\n",
            "|     Georgia|Ford Pickup (Full...|     2006|   954|   2|\n",
            "|     Georgia|Chevrolet Pickup ...|     1999|   948|   3|\n",
            "|        Utah|        Honda Accord|     1997|   938|   1|\n",
            "|        Utah|         Honda Civic|     1998|   915|   2|\n",
            "|     Florida|      Toyota Corolla|     2014|   914|   6|\n",
            "|    Virginia|      Toyota Corolla|     2013|   900|   7|\n",
            "|       Texas|    Chevrolet Impala|     2007|   898|  10|\n",
            "|    Missouri|Ford Pickup (Full...|     2004|   880|   1|\n",
            "|     Arizona|Chevrolet Pickup ...|     2004|   850|   3|\n",
            "|  New Jersey|        Honda Accord|     1997|   844|   1|\n",
            "|     Florida|Chevrolet Pickup ...|     2015|   786|   7|\n",
            "|    Missouri|Chevrolet Pickup ...|     2000|   783|   2|\n",
            "|    Oklahoma|Ford Pickup (Full...|     2004|   780|   2|\n",
            "|     Arizona|Ford Pickup (Full...|     2006|   772|   4|\n",
            "|  New Jersey|         Honda Civic|     1998|   753|   2|\n",
            "|  Washington|Ford Pickup (Full...|     2004|   745|   3|\n",
            "|    Michigan|    Chevrolet Impala|     2008|   733|   1|\n",
            "+------------+--------------------+---------+------+----+\n",
            "only showing top 20 rows\n",
            "\n"
          ]
        }
      ]
    },
    {
      "cell_type": "code",
      "metadata": {
        "id": "cGwl1iKZhnnB"
      },
      "source": [
        "dfUpdatedRank.createOrReplaceTempView(\"Cars\")"
      ],
      "execution_count": null,
      "outputs": []
    },
    {
      "cell_type": "markdown",
      "metadata": {
        "id": "mAfCqLbrdbAy"
      },
      "source": [
        "# Task5:List the most 5 thefted models in U.S"
      ]
    },
    {
      "cell_type": "code",
      "metadata": {
        "colab": {
          "base_uri": "https://localhost:8080/"
        },
        "id": "muhDAMJ2_tZr",
        "outputId": "b1fd1c52-c9ca-4874-d8bb-cf2b724bc9da"
      },
      "source": [
        "spark.sql(\"select distinct MakeModel,Thefts from Cars ORDER BY Thefts desc\").show(5)"
      ],
      "execution_count": null,
      "outputs": [
        {
          "output_type": "stream",
          "name": "stdout",
          "text": [
            "+--------------------+------+\n",
            "|           MakeModel|Thefts|\n",
            "+--------------------+------+\n",
            "|       Nissan Altima|  3000|\n",
            "|    Pontiac Grand Am|  2100|\n",
            "|       Nissan Altima|   957|\n",
            "|Ford Pickup (Full...|   954|\n",
            "|Chevrolet Pickup ...|   948|\n",
            "+--------------------+------+\n",
            "only showing top 5 rows\n",
            "\n"
          ]
        }
      ]
    },
    {
      "cell_type": "code",
      "metadata": {
        "id": "2mweW3W_uJdN"
      },
      "source": [
        "# dfUpdatedRank.select('MakeModel','Thefts').sort('Thefts',ascending=False).show(5)"
      ],
      "execution_count": null,
      "outputs": []
    },
    {
      "cell_type": "markdown",
      "metadata": {
        "id": "Ey3m6PUEdWdZ"
      },
      "source": [
        "# Task6:List the most 5 states based on the number of thefted cars."
      ]
    },
    {
      "cell_type": "code",
      "metadata": {
        "colab": {
          "base_uri": "https://localhost:8080/"
        },
        "id": "GlaMk4KYouWQ",
        "outputId": "5307cb3d-2294-4473-a9bc-51d5cf3c2390"
      },
      "source": [
        "spark.sql(\"select distinct State,Thefts from Cars ORDER BY Thefts desc\").show(5)"
      ],
      "execution_count": null,
      "outputs": [
        {
          "output_type": "stream",
          "name": "stdout",
          "text": [
            "+------------+------+\n",
            "|       State|Thefts|\n",
            "+------------+------+\n",
            "|    Arkansas|  3000|\n",
            "|North Dakota|  2100|\n",
            "|       Texas|   957|\n",
            "|     Georgia|   954|\n",
            "|     Georgia|   948|\n",
            "+------------+------+\n",
            "only showing top 5 rows\n",
            "\n"
          ]
        }
      ]
    },
    {
      "cell_type": "markdown",
      "metadata": {
        "id": "uPG7DYzqdf5f"
      },
      "source": [
        "# Task7:Based on the models, what is the most country from where Americans buy their cars"
      ]
    },
    {
      "cell_type": "markdown",
      "metadata": {
        "id": "qmVbYnbDh3MV"
      },
      "source": [
        "## Extract Model name "
      ]
    },
    {
      "cell_type": "markdown",
      "metadata": {
        "id": "MJHjmg6aiHxi"
      },
      "source": [
        "We need to extract model name then join it with it's country (using cars.csv file)"
      ]
    },
    {
      "cell_type": "code",
      "metadata": {
        "colab": {
          "base_uri": "https://localhost:8080/"
        },
        "id": "Ix41QgwfJpgB",
        "outputId": "4b06beae-7bfc-4c25-e653-5e100198614b"
      },
      "source": [
        "split_col = pyspark.sql.functions.split(dfUpdatedRank['MakeModel'], ' ')\n",
        "dfUpdatedRank = dfUpdatedRank.withColumn('MakeModel', split_col.getItem(0))\n",
        "dfUpdatedRank.show(5)"
      ],
      "execution_count": null,
      "outputs": [
        {
          "output_type": "stream",
          "name": "stdout",
          "text": [
            "+-------+---------+---------+------+----+\n",
            "|  State|MakeModel|ModelYear|Thefts|Rank|\n",
            "+-------+---------+---------+------+----+\n",
            "|Alabama|Chevrolet|     2004|   191|   4|\n",
            "|Alabama|Chevrolet|     2005|   499|   1|\n",
            "|Alabama|    Dodge|     1998|   138|   7|\n",
            "|Alabama|     Ford|     2002|   119|   9|\n",
            "|Alabama|     Ford|     2002|   122|   8|\n",
            "+-------+---------+---------+------+----+\n",
            "only showing top 5 rows\n",
            "\n"
          ]
        }
      ]
    },
    {
      "cell_type": "code",
      "metadata": {
        "id": "LVlCqrUom-jX"
      },
      "source": [
        "numOfModelsBefore=dfUpdatedRank.select('MakeModel').distinct().count()"
      ],
      "execution_count": null,
      "outputs": []
    },
    {
      "cell_type": "code",
      "metadata": {
        "id": "i3_G4yB_xeUq"
      },
      "source": [
        "#dfUpdatedRank.select('MakeModel').distinct().show()"
      ],
      "execution_count": null,
      "outputs": []
    },
    {
      "cell_type": "markdown",
      "metadata": {
        "id": "EdGBIxRnlXYt"
      },
      "source": [
        "Rename Car Brand column "
      ]
    },
    {
      "cell_type": "code",
      "metadata": {
        "colab": {
          "base_uri": "https://localhost:8080/"
        },
        "id": "V80lkqFqMS2Y",
        "outputId": "2b3b8c0c-dd39-4218-8cd5-5d8f018d99b3"
      },
      "source": [
        "dfCar=dfCar.withColumnRenamed('Car Brand','MakeModel').withColumnRenamed('Country of Origin','CountryOfOrigin')\n",
        "dfCar.show(5)"
      ],
      "execution_count": null,
      "outputs": [
        {
          "output_type": "stream",
          "name": "stdout",
          "text": [
            "+------------+---------------+\n",
            "|   MakeModel|CountryOfOrigin|\n",
            "+------------+---------------+\n",
            "|      Abarth|          Italy|\n",
            "|  Alfa Romeo|          Italy|\n",
            "|Aston Martin|        England|\n",
            "|        Audi|        Germany|\n",
            "|     Bentley|        England|\n",
            "+------------+---------------+\n",
            "only showing top 5 rows\n",
            "\n"
          ]
        }
      ]
    },
    {
      "cell_type": "markdown",
      "metadata": {
        "id": "uX6PE8jxletI"
      },
      "source": [
        "## Join cars dataset with report dataset"
      ]
    },
    {
      "cell_type": "code",
      "metadata": {
        "colab": {
          "base_uri": "https://localhost:8080/"
        },
        "id": "NaKak4VOSURn",
        "outputId": "491af7e9-bd2e-4ae4-db17-db4b611ec245"
      },
      "source": [
        "dfUpdatedRank=dfUpdatedRank.join(dfCar, ['MakeModel'], 'inner')\n",
        "dfUpdatedRank.show(5)"
      ],
      "execution_count": null,
      "outputs": [
        {
          "output_type": "stream",
          "name": "stdout",
          "text": [
            "+---------+-------+---------+------+----+---------------+\n",
            "|MakeModel|  State|ModelYear|Thefts|Rank|CountryOfOrigin|\n",
            "+---------+-------+---------+------+----+---------------+\n",
            "|Chevrolet|Alabama|     2004|   191|   4|        America|\n",
            "|Chevrolet|Alabama|     2005|   499|   1|        America|\n",
            "|    Dodge|Alabama|     1998|   138|   7|        America|\n",
            "|     Ford|Alabama|     2002|   119|   9|        America|\n",
            "|     Ford|Alabama|     2002|   122|   8|        America|\n",
            "+---------+-------+---------+------+----+---------------+\n",
            "only showing top 5 rows\n",
            "\n"
          ]
        }
      ]
    },
    {
      "cell_type": "code",
      "metadata": {
        "id": "o4Iv_eWjnNrP"
      },
      "source": [
        "numOfModelsAfter=dfUpdatedRank.select('MakeModel').distinct().count()"
      ],
      "execution_count": null,
      "outputs": []
    },
    {
      "cell_type": "code",
      "metadata": {
        "id": "stR4xQ52xjTV"
      },
      "source": [
        "#dfUpdatedRank.select('MakeModel').distinct().show()"
      ],
      "execution_count": null,
      "outputs": []
    },
    {
      "cell_type": "code",
      "metadata": {
        "id": "HVdGO5rqxxzR"
      },
      "source": [
        "#dfCar.select('MakeModel').distinct().show()"
      ],
      "execution_count": null,
      "outputs": []
    },
    {
      "cell_type": "markdown",
      "metadata": {
        "id": "Lbs35dWA5X2x"
      },
      "source": [
        "**Important**"
      ]
    },
    {
      "cell_type": "code",
      "metadata": {
        "colab": {
          "base_uri": "https://localhost:8080/"
        },
        "id": "3LpbRUjgWci6",
        "outputId": "aa6310db-d98b-4ec2-933e-a9613e247b2a"
      },
      "source": [
        "print(\"Number of models in cars.csv file = \",dfCar.select('MakeModel').distinct().count())"
      ],
      "execution_count": null,
      "outputs": [
        {
          "output_type": "stream",
          "name": "stdout",
          "text": [
            "Number of models in cars.csv file =  58\n"
          ]
        }
      ]
    },
    {
      "cell_type": "code",
      "metadata": {
        "colab": {
          "base_uri": "https://localhost:8080/"
        },
        "id": "AGsL_LMzzvlF",
        "outputId": "de095eb4-b2fb-4e98-eadf-d79671aeebfc"
      },
      "source": [
        "print(\" Number Of Models Before join  = \",numOfModelsBefore,\" Number Of Models After join  = \",numOfModelsAfter)"
      ],
      "execution_count": null,
      "outputs": [
        {
          "output_type": "stream",
          "name": "stdout",
          "text": [
            " Number Of Models Before join  =  15  Number Of Models After join  =  10\n"
          ]
        }
      ]
    },
    {
      "cell_type": "markdown",
      "metadata": {
        "id": "KSrEgrrJyxuD"
      },
      "source": [
        "**Note:** VW, GMC, Seat, Pontiac, Acura weren't in cars.csv so the models number matched in report csv file and cars csv file is just 10 not 15."
      ]
    },
    {
      "cell_type": "markdown",
      "metadata": {
        "id": "TcnKHJ3ylmqm"
      },
      "source": [
        "## Calculate the most country repeted in cars report based on the model"
      ]
    },
    {
      "cell_type": "code",
      "metadata": {
        "colab": {
          "base_uri": "https://localhost:8080/"
        },
        "id": "HItjY9JyS57e",
        "outputId": "6e31208b-68bb-404c-b1ad-328a0be718a2"
      },
      "source": [
        "dfUpdatedRank.groupby('CountryOfOrigin').count().sort('count',ascending=False).show(1)"
      ],
      "execution_count": null,
      "outputs": [
        {
          "output_type": "stream",
          "name": "stdout",
          "text": [
            "+---------------+-----+\n",
            "|CountryOfOrigin|count|\n",
            "+---------------+-----+\n",
            "|        America|  268|\n",
            "+---------------+-----+\n",
            "only showing top 1 row\n",
            "\n"
          ]
        }
      ]
    }
  ]
}