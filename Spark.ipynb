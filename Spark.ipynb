{
  "nbformat": 4,
  "nbformat_minor": 0,
  "metadata": {
    "colab": {
      "name": "Spark.ipynb",
      "provenance": [],
      "collapsed_sections": [],
      "toc_visible": true,
      "mount_file_id": "1ttUYBuFOBrHeBRvgQ_pV2ye49XYf7-sC",
      "authorship_tag": "ABX9TyOUSjDi3i79OCUQisT5EZYD",
      "include_colab_link": true
    },
    "kernelspec": {
      "name": "python3",
      "display_name": "Python 3"
    },
    "language_info": {
      "name": "python"
    }
  },
  "cells": [
    {
      "cell_type": "markdown",
      "metadata": {
        "id": "view-in-github",
        "colab_type": "text"
      },
      "source": [
        "<a href=\"https://colab.research.google.com/github/duhajarrar/SparkApp/blob/main/Spark.ipynb\" target=\"_parent\"><img src=\"https://colab.research.google.com/assets/colab-badge.svg\" alt=\"Open In Colab\"/></a>"
      ]
    },
    {
      "cell_type": "markdown",
      "metadata": {
        "id": "4CUxOTY6cMjF"
      },
      "source": [
        "# Install Spark"
      ]
    },
    {
      "cell_type": "code",
      "metadata": {
        "colab": {
          "base_uri": "https://localhost:8080/"
        },
        "id": "8L9jRiftyQkO",
        "outputId": "0c8a1c89-6b55-467b-c582-b68644d1eb81"
      },
      "source": [
        "!pip install pyspark"
      ],
      "execution_count": 399,
      "outputs": [
        {
          "output_type": "stream",
          "name": "stdout",
          "text": [
            "Requirement already satisfied: pyspark in /usr/local/lib/python3.7/dist-packages (3.2.0)\n",
            "Requirement already satisfied: py4j==0.10.9.2 in /usr/local/lib/python3.7/dist-packages (from pyspark) (0.10.9.2)\n"
          ]
        }
      ]
    },
    {
      "cell_type": "markdown",
      "metadata": {
        "id": "V_lAjD5QcAVV"
      },
      "source": [
        "# Import libraries"
      ]
    },
    {
      "cell_type": "code",
      "metadata": {
        "id": "AXBYe3Nmjdiv"
      },
      "source": [
        "import pyspark.sql.functions as f\n",
        "from pyspark.sql import SparkSession\n",
        "import functools\n",
        "import pyspark\n",
        "from pyspark import SparkContext"
      ],
      "execution_count": 400,
      "outputs": []
    },
    {
      "cell_type": "markdown",
      "metadata": {
        "id": "1NiKiwxjcTjj"
      },
      "source": [
        "# Read The Dataset"
      ]
    },
    {
      "cell_type": "code",
      "metadata": {
        "id": "CvJ5m3rxwPCc",
        "colab": {
          "base_uri": "https://localhost:8080/"
        },
        "outputId": "ac79a7b6-8846-4e58-f2ee-da6aced27f08"
      },
      "source": [
        "spark = SparkSession.builder.master(\"local[1]\").appName(\"SparkApp\").getOrCreate()\n",
        "dfCar=spark.read.option(\"header\",True).csv(\"/content/drive/MyDrive/Spark-Harri/cars.csv\")\n",
        "dfCar.printSchema()\n",
        "print(type(spark),type(dfCar))\n",
        "dfCar.show(5)\n",
        "print(dfCar.columns)"
      ],
      "execution_count": 401,
      "outputs": [
        {
          "output_type": "stream",
          "name": "stdout",
          "text": [
            "root\n",
            " |-- Car Brand: string (nullable = true)\n",
            " |-- Country of Origin: string (nullable = true)\n",
            "\n",
            "<class 'pyspark.sql.session.SparkSession'> <class 'pyspark.sql.dataframe.DataFrame'>\n",
            "+------------+-----------------+\n",
            "|   Car Brand|Country of Origin|\n",
            "+------------+-----------------+\n",
            "|      Abarth|            Italy|\n",
            "|  Alfa Romeo|            Italy|\n",
            "|Aston Martin|          England|\n",
            "|        Audi|          Germany|\n",
            "|     Bentley|          England|\n",
            "+------------+-----------------+\n",
            "only showing top 5 rows\n",
            "\n",
            "['Car Brand', 'Country of Origin']\n"
          ]
        }
      ]
    },
    {
      "cell_type": "markdown",
      "metadata": {
        "id": "43hChPgzcd_F"
      },
      "source": [
        "# Task1: Extract a file which contains the car model and the country of origin of this car."
      ]
    },
    {
      "cell_type": "code",
      "metadata": {
        "id": "Ra01UNTcy9vX"
      },
      "source": [
        "rows = dfCar.count()\n",
        "dfCar.repartition(rows).write.csv('/content/drive/MyDrive/Spark-Harri/Cars')"
      ],
      "execution_count": 402,
      "outputs": []
    },
    {
      "cell_type": "markdown",
      "metadata": {
        "id": "zFCxGj7ucp4v"
      },
      "source": [
        "# Task2: Extract one file per country"
      ]
    },
    {
      "cell_type": "code",
      "metadata": {
        "id": "fNxXPCBc0fqV"
      },
      "source": [
        "dfCar.write.partitionBy('Country Of Origin').mode(\"overwrite\").csv('/content/drive/MyDrive/Spark-Harri/Country Of Origin')"
      ],
      "execution_count": 403,
      "outputs": []
    },
    {
      "cell_type": "code",
      "metadata": {
        "id": "E5yPVJNkispD"
      },
      "source": [
        "# from pyspark import SparkContext\n",
        "# sc = SparkContext(\"local\", \"First App\")\n",
        "# sc.parallelize(dfCar)"
      ],
      "execution_count": 404,
      "outputs": []
    },
    {
      "cell_type": "code",
      "metadata": {
        "id": "TVKOPqW0E9PG"
      },
      "source": [
        "# rddCar=dfCar.rdd\n",
        "# print(rddObj.collect())"
      ],
      "execution_count": 405,
      "outputs": []
    },
    {
      "cell_type": "code",
      "metadata": {
        "id": "atgUiNhMq368"
      },
      "source": [
        "# def toCSVLine(data):\n",
        "#   return ','.join(str(d) for d in data)\n",
        "\n",
        "# lines = rddCar.map(toCSVLine)\n",
        "# lines.saveAsTextFile('/content/drive/MyDrive/Spark-Harri/Part2')"
      ],
      "execution_count": 406,
      "outputs": []
    },
    {
      "cell_type": "markdown",
      "metadata": {
        "id": "ZGmMnuQhnzCZ"
      },
      "source": [
        "# Task3: Use caching properly to optimize the performance"
      ]
    },
    {
      "cell_type": "code",
      "metadata": {
        "id": "kItspzV3n3o8"
      },
      "source": [
        "dfCar=dfCar.cache()"
      ],
      "execution_count": 407,
      "outputs": []
    },
    {
      "cell_type": "markdown",
      "metadata": {
        "id": "zCOuUZF6c6id"
      },
      "source": [
        "# Task4: Expect to read a file with updated records, you should be able to merge these updates with the original dataset."
      ]
    },
    {
      "cell_type": "markdown",
      "metadata": {
        "id": "D2O2iJ7-fZ5C"
      },
      "source": [
        "## Read 2015_State_Top10Report_wTotalThefts file"
      ]
    },
    {
      "cell_type": "code",
      "metadata": {
        "colab": {
          "base_uri": "https://localhost:8080/"
        },
        "id": "IPRE74-jfYMB",
        "outputId": "32149bde-27fb-4dde-c5dc-dd9199d354f3"
      },
      "source": [
        "from pyspark.sql.types import IntegerType\n",
        "dfReport=spark.read.option(\"header\",True).csv(\"/content/drive/MyDrive/Spark-Harri/2015_State_Top10Report_wTotalThefts.csv\")\n",
        "dfReport=dfReport.withColumn(\"Thefts\",dfReport.Thefts.cast('long'))\n",
        "dfReport.printSchema()\n",
        "dfReport.show()"
      ],
      "execution_count": 408,
      "outputs": [
        {
          "output_type": "stream",
          "name": "stdout",
          "text": [
            "root\n",
            " |-- State: string (nullable = true)\n",
            " |-- Rank: string (nullable = true)\n",
            " |-- Make/Model: string (nullable = true)\n",
            " |-- Model Year: string (nullable = true)\n",
            " |-- Thefts: long (nullable = true)\n",
            "\n",
            "+-------+----+--------------------+----------+------+\n",
            "|  State|Rank|          Make/Model|Model Year|Thefts|\n",
            "+-------+----+--------------------+----------+------+\n",
            "|Alabama|   1|Chevrolet Pickup ...|      2005|   499|\n",
            "|Alabama|   2|Ford Pickup (Full...|      2006|   357|\n",
            "|Alabama|   3|        Toyota Camry|      2014|   205|\n",
            "|Alabama|   4|       Nissan Altima|      2014|   191|\n",
            "|Alabama|   4|    Chevrolet Impala|      2004|   191|\n",
            "|Alabama|   5|        Honda Accord|      1998|   180|\n",
            "|Alabama|   6|GMC Pickup (Full ...|      1999|   152|\n",
            "|Alabama|   7|Dodge Pickup (Ful...|      1998|   138|\n",
            "|Alabama|   8|        Ford Mustang|      2002|   122|\n",
            "|Alabama|   9|       Ford Explorer|      2002|   119|\n",
            "| Alaska|   1|Chevrolet Pickup ...|      2003|   147|\n",
            "| Alaska|   2|Ford Pickup (Full...|      2004|    95|\n",
            "| Alaska|   3|GMC Pickup (Full ...|      1997|    58|\n",
            "| Alaska|   4|         Honda Civic|      2000|    56|\n",
            "| Alaska|   5|        Honda Accord|      1993|    46|\n",
            "| Alaska|   6|Dodge Pickup (Ful...|      1998|    44|\n",
            "| Alaska|   7|       Ford Explorer|      1994|    31|\n",
            "| Alaska|   8|Jeep Cherokee/Gra...|      1999|    28|\n",
            "| Alaska|   9|Ford Pickup (Smal...|      2000|    22|\n",
            "| Alaska|  10|Chevrolet Pickup ...|      1998|    20|\n",
            "+-------+----+--------------------+----------+------+\n",
            "only showing top 20 rows\n",
            "\n"
          ]
        }
      ]
    },
    {
      "cell_type": "markdown",
      "metadata": {
        "id": "u_LiMplXgCE8"
      },
      "source": [
        "Rename some columns to make it easy to use them."
      ]
    },
    {
      "cell_type": "code",
      "metadata": {
        "id": "oArAsnENf-EB"
      },
      "source": [
        "dfReport=dfReport.withColumnRenamed('Make/Model','MakeModel').withColumnRenamed('Model Year','ModelYear')"
      ],
      "execution_count": 409,
      "outputs": []
    },
    {
      "cell_type": "markdown",
      "metadata": {
        "id": "ejB2hftSf0Wa"
      },
      "source": [
        "## Read Updated - Sheet1 file"
      ]
    },
    {
      "cell_type": "code",
      "metadata": {
        "colab": {
          "base_uri": "https://localhost:8080/"
        },
        "id": "svKu77azcpGl",
        "outputId": "25801694-57bd-4c62-95a2-8ead6339174f"
      },
      "source": [
        "dfUpdate=spark.read.option(\"header\",True).csv(\"/content/drive/MyDrive/Spark-Harri/Updated - Sheet1.csv\")\n",
        "dfUpdate=dfUpdate.dropna()\n",
        "dfUpdate=dfUpdate.withColumn(\"Thefts\",dfUpdate.Thefts.cast('long'))\n",
        "dfUpdate.printSchema()\n",
        "dfUpdate.show()"
      ],
      "execution_count": 410,
      "outputs": [
        {
          "output_type": "stream",
          "name": "stdout",
          "text": [
            "root\n",
            " |-- State: string (nullable = true)\n",
            " |-- Rank: string (nullable = true)\n",
            " |-- Make/Model: string (nullable = true)\n",
            " |-- Model Year: string (nullable = true)\n",
            " |-- Thefts: long (nullable = true)\n",
            "\n",
            "+------------+----+--------------------+----------+------+\n",
            "|       State|Rank|          Make/Model|Model Year|Thefts|\n",
            "+------------+----+--------------------+----------+------+\n",
            "|    Arkansas|   6|       Nissan Altima|      2015|  3000|\n",
            "|       Idaho|   8|Jeep Cherokee/Gra...|      1997|    19|\n",
            "|   Minnesota|   1|         Honda Civic|      1998|    50|\n",
            "|   Minnesota|   2|        Honda Accord|      1997|    20|\n",
            "|    Virginia|   7|      Toyota Corolla|      2013|   900|\n",
            "|    Virginia|   8|       Ford Explorer|      2002|   543|\n",
            "|North Dakota|   9|    Pontiac Grand Am|      2000|  2100|\n",
            "|    New York|   5|           Seat Leon|      2019|    11|\n",
            "|       Maine|   2|             VW Golf|      2021|     6|\n",
            "+------------+----+--------------------+----------+------+\n",
            "\n"
          ]
        }
      ]
    },
    {
      "cell_type": "markdown",
      "metadata": {
        "id": "RZWpy0yzgY5y"
      },
      "source": [
        "Rename some columns to make it easy to use them."
      ]
    },
    {
      "cell_type": "code",
      "metadata": {
        "colab": {
          "base_uri": "https://localhost:8080/"
        },
        "id": "VpgXjAWihhyS",
        "outputId": "502ae0cb-f6f0-4117-fb35-06efbe38f74a"
      },
      "source": [
        "dfUpdate=dfUpdate.withColumnRenamed('Make/Model','MakeModel').withColumnRenamed('Model Year','ModelYear')\n",
        "print(dfUpdate.columns)"
      ],
      "execution_count": 411,
      "outputs": [
        {
          "output_type": "stream",
          "name": "stdout",
          "text": [
            "['State', 'Rank', 'MakeModel', 'ModelYear', 'Thefts']\n"
          ]
        }
      ]
    },
    {
      "cell_type": "markdown",
      "metadata": {
        "id": "_qMSInPWgeNI"
      },
      "source": [
        "## Update the Report dataset using the updated dataset "
      ]
    },
    {
      "cell_type": "code",
      "metadata": {
        "colab": {
          "base_uri": "https://localhost:8080/"
        },
        "id": "Fyaj1ZAbih-B",
        "outputId": "5af53ec8-2d4b-4b98-de59-4633e6f30f4d"
      },
      "source": [
        "dfUpdatedRank=dfReport.alias('a').join(dfUpdate.alias('b'), ['State','MakeModel','ModelYear','Thefts'],how='outer').select('State','MakeModel','ModelYear','Thefts',f.coalesce('b.Rank', 'a.Rank').alias('Rank'))\n",
        "dfUpdatedRank.show(5)"
      ],
      "execution_count": 412,
      "outputs": [
        {
          "output_type": "stream",
          "name": "stdout",
          "text": [
            "+-------+--------------------+---------+------+----+\n",
            "|  State|           MakeModel|ModelYear|Thefts|Rank|\n",
            "+-------+--------------------+---------+------+----+\n",
            "|Alabama|    Chevrolet Impala|     2004|   191|   4|\n",
            "|Alabama|Chevrolet Pickup ...|     2005|   499|   1|\n",
            "|Alabama|Dodge Pickup (Ful...|     1998|   138|   7|\n",
            "|Alabama|       Ford Explorer|     2002|   119|   9|\n",
            "|Alabama|        Ford Mustang|     2002|   122|   8|\n",
            "+-------+--------------------+---------+------+----+\n",
            "only showing top 5 rows\n",
            "\n"
          ]
        }
      ]
    },
    {
      "cell_type": "code",
      "metadata": {
        "id": "cvYG_VEikTYU"
      },
      "source": [
        "# dfUpdatedThefts=dfReport.alias('a').join(dfUpdate.alias('b'), ['State','MakeModel','ModelYear','Rank'], how='outer').select('State','MakeModel','ModelYear','Rank',f.coalesce('b.Thefts', 'a.Thefts').alias('Thefts'))\n",
        "# dfUpdatedThefts.show(5)"
      ],
      "execution_count": 413,
      "outputs": []
    },
    {
      "cell_type": "markdown",
      "metadata": {
        "id": "gAPxevtGhnAf"
      },
      "source": [
        "# Create Cars table "
      ]
    },
    {
      "cell_type": "code",
      "metadata": {
        "id": "DDOkWZVcrwNM"
      },
      "source": [
        "dfUpdatedRank=dfUpdatedRank.withColumn(\"Thefts\",dfUpdatedRank.Thefts.cast('long'))"
      ],
      "execution_count": 414,
      "outputs": []
    },
    {
      "cell_type": "code",
      "metadata": {
        "id": "qO6wz77QvodX"
      },
      "source": [
        "dfMost5Thefts=dfUpdatedRank.sort('Thefts',ascending=False)"
      ],
      "execution_count": 415,
      "outputs": []
    },
    {
      "cell_type": "code",
      "metadata": {
        "colab": {
          "base_uri": "https://localhost:8080/"
        },
        "id": "MHmfob8Wv4ef",
        "outputId": "012e628b-9d12-4cce-f6fb-5c2710b3aa8d"
      },
      "source": [
        "dfMost5Thefts.show()"
      ],
      "execution_count": 416,
      "outputs": [
        {
          "output_type": "stream",
          "name": "stdout",
          "text": [
            "+------------+--------------------+---------+------+----+\n",
            "|       State|           MakeModel|ModelYear|Thefts|Rank|\n",
            "+------------+--------------------+---------+------+----+\n",
            "|  California|        Honda Accord|     1996| 28345|   1|\n",
            "|  California|         Honda Civic|     1998| 28045|   2|\n",
            "|       Texas|Ford Pickup (Full...|     2006|  7897|   1|\n",
            "|       Texas|Chevrolet Pickup ...|     2004|  6158|   2|\n",
            "|  California|Chevrolet Pickup ...|     2006|  6048|   3|\n",
            "|  California|        Toyota Camry|     1991|  5345|   4|\n",
            "|  California|Ford Pickup (Full...|     2006|  4504|   5|\n",
            "|  California|       Acura Integra|     1994|  4273|   6|\n",
            "|  Washington|        Honda Accord|     1996|  3757|   1|\n",
            "|  California|      Toyota Corolla|     2014|  3339|   7|\n",
            "|  Washington|         Honda Civic|     1998|  3113|   2|\n",
            "|    Arkansas|       Nissan Altima|     2015|  3000|   6|\n",
            "|       Texas|Dodge Pickup (Ful...|     2004|  2898|   3|\n",
            "|  California|       Nissan Sentra|     1997|  2555|   8|\n",
            "|  California|       Nissan Altima|     1997|  2281|   9|\n",
            "|North Dakota|    Pontiac Grand Am|     2000|  2100|   9|\n",
            "|     Florida|Ford Pickup (Full...|     2006|  2070|   1|\n",
            "|  California|          Honda CR-V|     1999|  2033|  10|\n",
            "|       Texas|        Honda Accord|     1997|  1626|   4|\n",
            "|      Oregon|        Honda Accord|     1994|  1491|   1|\n",
            "+------------+--------------------+---------+------+----+\n",
            "only showing top 20 rows\n",
            "\n"
          ]
        }
      ]
    },
    {
      "cell_type": "code",
      "metadata": {
        "id": "cGwl1iKZhnnB"
      },
      "source": [
        "dfUpdatedRank.createOrReplaceTempView(\"Cars\")"
      ],
      "execution_count": 417,
      "outputs": []
    },
    {
      "cell_type": "code",
      "metadata": {
        "colab": {
          "base_uri": "https://localhost:8080/"
        },
        "id": "Bwo5iDxSAm91",
        "outputId": "c52d9162-b434-4615-ec94-b402b41e0340"
      },
      "source": [
        "dfUpdatedRank.count()"
      ],
      "execution_count": 418,
      "outputs": [
        {
          "output_type": "execute_result",
          "data": {
            "text/plain": [
              "518"
            ]
          },
          "metadata": {},
          "execution_count": 418
        }
      ]
    },
    {
      "cell_type": "markdown",
      "metadata": {
        "id": "mAfCqLbrdbAy"
      },
      "source": [
        "# Task5:List the most 5 thefted models in U.S"
      ]
    },
    {
      "cell_type": "code",
      "metadata": {
        "colab": {
          "base_uri": "https://localhost:8080/"
        },
        "id": "Ky3l9Fmrb9af",
        "outputId": "c758e31a-877d-4440-ef19-0098080d09e1"
      },
      "source": [
        "spark.sql(\"select MakeModel,MAX(Thefts) from Cars GROUP BY MakeModel ORDER BY MAX(Thefts) desc\").show(5)"
      ],
      "execution_count": 419,
      "outputs": [
        {
          "output_type": "stream",
          "name": "stdout",
          "text": [
            "+--------------------+-----------+\n",
            "|           MakeModel|max(Thefts)|\n",
            "+--------------------+-----------+\n",
            "|        Honda Accord|      28345|\n",
            "|         Honda Civic|      28045|\n",
            "|Ford Pickup (Full...|       7897|\n",
            "|Chevrolet Pickup ...|       6158|\n",
            "|        Toyota Camry|       5345|\n",
            "+--------------------+-----------+\n",
            "only showing top 5 rows\n",
            "\n"
          ]
        }
      ]
    },
    {
      "cell_type": "markdown",
      "metadata": {
        "id": "Ey3m6PUEdWdZ"
      },
      "source": [
        "# Task6:List the most 5 states based on the number of thefted cars."
      ]
    },
    {
      "cell_type": "code",
      "metadata": {
        "colab": {
          "base_uri": "https://localhost:8080/"
        },
        "id": "qofl8ogYb1QF",
        "outputId": "8dd6083c-2603-41c4-9e51-c1d106af03ce"
      },
      "source": [
        "spark.sql(\"select State,MAX(Thefts) from Cars GROUP BY State ORDER BY MAX(Thefts) desc\").show(5)"
      ],
      "execution_count": 420,
      "outputs": [
        {
          "output_type": "stream",
          "name": "stdout",
          "text": [
            "+------------+-----------+\n",
            "|       State|max(Thefts)|\n",
            "+------------+-----------+\n",
            "|  California|      28345|\n",
            "|       Texas|       7897|\n",
            "|  Washington|       3757|\n",
            "|    Arkansas|       3000|\n",
            "|North Dakota|       2100|\n",
            "+------------+-----------+\n",
            "only showing top 5 rows\n",
            "\n"
          ]
        }
      ]
    },
    {
      "cell_type": "markdown",
      "metadata": {
        "id": "uPG7DYzqdf5f"
      },
      "source": [
        "# Task7:Based on the models, what is the most country from where Americans buy their cars"
      ]
    },
    {
      "cell_type": "markdown",
      "metadata": {
        "id": "qmVbYnbDh3MV"
      },
      "source": [
        "## Extract Model name "
      ]
    },
    {
      "cell_type": "markdown",
      "metadata": {
        "id": "MJHjmg6aiHxi"
      },
      "source": [
        "We need to extract model name then join it with it's country (using cars.csv file)"
      ]
    },
    {
      "cell_type": "code",
      "metadata": {
        "colab": {
          "base_uri": "https://localhost:8080/"
        },
        "id": "Ix41QgwfJpgB",
        "outputId": "ea545a49-f19e-42f0-c063-981b92f1aaf7"
      },
      "source": [
        "split_col = pyspark.sql.functions.split(dfUpdatedRank['MakeModel'], ' ')\n",
        "dfUpdatedRank = dfUpdatedRank.withColumn('MakeModel', split_col.getItem(0))\n",
        "dfUpdatedRank.show(5)"
      ],
      "execution_count": 421,
      "outputs": [
        {
          "output_type": "stream",
          "name": "stdout",
          "text": [
            "+-------+---------+---------+------+----+\n",
            "|  State|MakeModel|ModelYear|Thefts|Rank|\n",
            "+-------+---------+---------+------+----+\n",
            "|Alabama|Chevrolet|     2004|   191|   4|\n",
            "|Alabama|Chevrolet|     2005|   499|   1|\n",
            "|Alabama|    Dodge|     1998|   138|   7|\n",
            "|Alabama|     Ford|     2002|   119|   9|\n",
            "|Alabama|     Ford|     2002|   122|   8|\n",
            "+-------+---------+---------+------+----+\n",
            "only showing top 5 rows\n",
            "\n"
          ]
        }
      ]
    },
    {
      "cell_type": "code",
      "metadata": {
        "id": "LVlCqrUom-jX"
      },
      "source": [
        "numOfModelsBefore=dfUpdatedRank.select('MakeModel').distinct().count()"
      ],
      "execution_count": 422,
      "outputs": []
    },
    {
      "cell_type": "code",
      "metadata": {
        "id": "i3_G4yB_xeUq"
      },
      "source": [
        "#dfUpdatedRank.select('MakeModel').distinct().show()"
      ],
      "execution_count": 423,
      "outputs": []
    },
    {
      "cell_type": "markdown",
      "metadata": {
        "id": "EdGBIxRnlXYt"
      },
      "source": [
        "Rename Car Brand column "
      ]
    },
    {
      "cell_type": "code",
      "metadata": {
        "colab": {
          "base_uri": "https://localhost:8080/"
        },
        "id": "V80lkqFqMS2Y",
        "outputId": "07051d4b-c6ff-43fc-994b-eb48c1cfcb92"
      },
      "source": [
        "dfCar=dfCar.withColumnRenamed('Car Brand','MakeModel').withColumnRenamed('Country of Origin','CountryOfOrigin')\n",
        "dfCar.show(5)"
      ],
      "execution_count": 424,
      "outputs": [
        {
          "output_type": "stream",
          "name": "stdout",
          "text": [
            "+------------+---------------+\n",
            "|   MakeModel|CountryOfOrigin|\n",
            "+------------+---------------+\n",
            "|      Abarth|          Italy|\n",
            "|  Alfa Romeo|          Italy|\n",
            "|Aston Martin|        England|\n",
            "|        Audi|        Germany|\n",
            "|     Bentley|        England|\n",
            "+------------+---------------+\n",
            "only showing top 5 rows\n",
            "\n"
          ]
        }
      ]
    },
    {
      "cell_type": "markdown",
      "metadata": {
        "id": "uX6PE8jxletI"
      },
      "source": [
        "## Join cars dataset with report dataset"
      ]
    },
    {
      "cell_type": "code",
      "metadata": {
        "colab": {
          "base_uri": "https://localhost:8080/"
        },
        "id": "NaKak4VOSURn",
        "outputId": "d42fec08-1bd8-438f-f732-088c088cf2cc"
      },
      "source": [
        "dfUpdatedRank=dfUpdatedRank.join(dfCar, ['MakeModel'], 'inner')\n",
        "dfUpdatedRank.show(5)"
      ],
      "execution_count": 425,
      "outputs": [
        {
          "output_type": "stream",
          "name": "stdout",
          "text": [
            "+---------+-------+---------+------+----+---------------+\n",
            "|MakeModel|  State|ModelYear|Thefts|Rank|CountryOfOrigin|\n",
            "+---------+-------+---------+------+----+---------------+\n",
            "|Chevrolet|Alabama|     2004|   191|   4|        America|\n",
            "|Chevrolet|Alabama|     2005|   499|   1|        America|\n",
            "|    Dodge|Alabama|     1998|   138|   7|        America|\n",
            "|     Ford|Alabama|     2002|   119|   9|        America|\n",
            "|     Ford|Alabama|     2002|   122|   8|        America|\n",
            "+---------+-------+---------+------+----+---------------+\n",
            "only showing top 5 rows\n",
            "\n"
          ]
        }
      ]
    },
    {
      "cell_type": "code",
      "metadata": {
        "id": "o4Iv_eWjnNrP"
      },
      "source": [
        "numOfModelsAfter=dfUpdatedRank.select('MakeModel').distinct().count()"
      ],
      "execution_count": 426,
      "outputs": []
    },
    {
      "cell_type": "code",
      "metadata": {
        "id": "stR4xQ52xjTV"
      },
      "source": [
        "#dfUpdatedRank.select('MakeModel').distinct().show()"
      ],
      "execution_count": 427,
      "outputs": []
    },
    {
      "cell_type": "code",
      "metadata": {
        "id": "HVdGO5rqxxzR"
      },
      "source": [
        "#dfCar.select('MakeModel').distinct().show()"
      ],
      "execution_count": 428,
      "outputs": []
    },
    {
      "cell_type": "markdown",
      "metadata": {
        "id": "Lbs35dWA5X2x"
      },
      "source": [
        "**Important**"
      ]
    },
    {
      "cell_type": "code",
      "metadata": {
        "colab": {
          "base_uri": "https://localhost:8080/"
        },
        "id": "3LpbRUjgWci6",
        "outputId": "fd798cb0-cf95-4f0f-fb2a-b6e4eb00e283"
      },
      "source": [
        "print(\"Number of models in cars.csv file = \",dfCar.select('MakeModel').distinct().count())"
      ],
      "execution_count": 429,
      "outputs": [
        {
          "output_type": "stream",
          "name": "stdout",
          "text": [
            "Number of models in cars.csv file =  58\n"
          ]
        }
      ]
    },
    {
      "cell_type": "code",
      "metadata": {
        "colab": {
          "base_uri": "https://localhost:8080/"
        },
        "id": "AGsL_LMzzvlF",
        "outputId": "e04156fa-3271-4364-f0a8-a525719857cc"
      },
      "source": [
        "print(\" Number Of Models Before join  = \",numOfModelsBefore,\" Number Of Models After join  = \",numOfModelsAfter)"
      ],
      "execution_count": 430,
      "outputs": [
        {
          "output_type": "stream",
          "name": "stdout",
          "text": [
            " Number Of Models Before join  =  15  Number Of Models After join  =  10\n"
          ]
        }
      ]
    },
    {
      "cell_type": "markdown",
      "metadata": {
        "id": "KSrEgrrJyxuD"
      },
      "source": [
        "**Note:** VW, GMC, Seat, Pontiac, Acura weren't in cars.csv so the models number matched in report csv file and cars csv file is just 10 not 15."
      ]
    },
    {
      "cell_type": "markdown",
      "metadata": {
        "id": "TcnKHJ3ylmqm"
      },
      "source": [
        "## Calculate the most country repeted in cars report based on the model"
      ]
    },
    {
      "cell_type": "code",
      "metadata": {
        "colab": {
          "base_uri": "https://localhost:8080/"
        },
        "id": "Dh3pucPpdJ4N",
        "outputId": "7bbc53cb-f6e0-4be3-8c56-75f61bce6593"
      },
      "source": [
        "dfUpdatedRank.createOrReplaceTempView(\"Cars\")\n",
        "spark.sql(\"select CountryOfOrigin,count(*) from Cars GROUP BY CountryOfOrigin ORDER BY count(*) desc\").show(1)"
      ],
      "execution_count": 431,
      "outputs": [
        {
          "output_type": "stream",
          "name": "stdout",
          "text": [
            "+---------------+--------+\n",
            "|CountryOfOrigin|count(1)|\n",
            "+---------------+--------+\n",
            "|        America|     268|\n",
            "+---------------+--------+\n",
            "only showing top 1 row\n",
            "\n"
          ]
        }
      ]
    },
    {
      "cell_type": "code",
      "metadata": {
        "id": "HItjY9JyS57e"
      },
      "source": [
        "# dfUpdatedRank.groupby('CountryOfOrigin').count().sort('count',ascending=False).show(1)"
      ],
      "execution_count": 432,
      "outputs": []
    }
  ]
}